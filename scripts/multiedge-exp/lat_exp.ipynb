{
 "cells": [
  {
   "cell_type": "code",
   "execution_count": 1,
   "metadata": {},
   "outputs": [],
   "source": [
    "import sys\n",
    "sys.path.insert(0, '../../')\n",
    "\n",
    "import graph\n",
    "import importlib\n",
    "import math\n",
    "import matplotlib\n",
    "import matplotlib.pyplot as plt\n",
    "import numpy as np\n",
    "import random\n",
    "import schedule as sch\n",
    "import topo\n",
    "import typing\n",
    "import utils\n",
    "import yaml\n",
    "from tqdm.notebook import tqdm\n",
    "\n",
    "matplotlib.rc('font', family='Times New Roman', size=16)"
   ]
  },
  {
   "cell_type": "code",
   "execution_count": 2,
   "metadata": {},
   "outputs": [],
   "source": [
    "def unit_size_cb(r: int):\n",
    "    return 10000 * math.pow(10, random.randint(0, 1))\n",
    "\n",
    "def gen_graphs(graph_count, source_selector_dict):\n",
    "    source_selector = graph.MultiDomainSourceSelector(source_selector_dict)\n",
    "    gen_args_list = [\n",
    "            {\n",
    "            \"total_rank\": random.randint(3, 7),\n",
    "            \"max_node_per_rank\": random.randint(1, 3),\n",
    "            \"max_predecessors\": random.randint(1, 2),\n",
    "            \"mi_cb\": lambda: 1,\n",
    "            \"memory_cb\": lambda: int(2e8),\n",
    "            \"unit_size_cb\": unit_size_cb,\n",
    "            \"unit_rate_cb\": lambda: random.randint(10, 20),\n",
    "            \"source_hosts\": source_selector,\n",
    "            \"sink_hosts\": [\"cloud1\"],\n",
    "            \"sources_num\": random.randint(1, 3),\n",
    "        }\n",
    "        for _ in range(graph_count)\n",
    "    ]\n",
    "    return [\n",
    "        graph.MultiSourceGraphGenerator(\"g\" + str(idx), **gen_args).gen_dag_graph()\n",
    "        for idx, gen_args in enumerate(gen_args_list)\n",
    "    ]"
   ]
  },
  {
   "cell_type": "code",
   "execution_count": 3,
   "metadata": {},
   "outputs": [],
   "source": [
    "from tqdm.notebook import trange\n",
    "\n",
    "def big_avg(array):\n",
    "    return sum(array) / len(array)\n",
    "\n",
    "def run(sc, labels, source_selector_dict):\n",
    "    flow_bp_data = [[] for _ in labels]\n",
    "    all_cloud_bp_data = [[] for _ in labels]\n",
    "    sbon_bp_data = [[] for _ in labels]\n",
    "    flow_event_data = [[] for _ in labels]\n",
    "    all_cloud_event_data = [[] for _ in labels]\n",
    "    sbon_event_data = [[] for _ in labels]\n",
    "    edge_random_event_data = [[] for _ in labels]\n",
    "    test_round = 100\n",
    "    for idx, graph_count in enumerate(labels):\n",
    "        print(graph_count)\n",
    "        for _ in trange(test_round, desc=\"running with {} graphs\".format(graph_count)):\n",
    "            graph_list = gen_graphs(graph_count, source_selector_dict)\n",
    "            sc.topo.clear_occupied()\n",
    "            flow_scheduler = sch.MultiEdgeFlowScheduler(sc)\n",
    "            flow_calculator = sch.LatencyCalculator(sc.topo)\n",
    "            flow_result_list = flow_scheduler.schedule_multiple(graph_list)\n",
    "            for g, result in zip(graph_list, flow_result_list):\n",
    "                assert result is not None\n",
    "                flow_calculator.add_scheduled_graph(g, result)\n",
    "            flow_latency, flow_bp, _ = flow_calculator.compute_latency()\n",
    "            for g in graph_list:\n",
    "                flow_event_data[idx].append(flow_latency[g.uuid] / g.number_of_vertices())\n",
    "                flow_bp_data[idx].append(flow_bp[g.uuid])\n",
    "            # flow_event_data[idx].extend()\n",
    "\n",
    "            # sc.topo.clear_occupied()\n",
    "            # sbon_scheduler = sch.SBONScheduler(sc)\n",
    "            # sbon_calculator = sch.LatencyCalculator(sc.topo)\n",
    "            # sbon_result_list = sbon_scheduler.schedule_multiple(graph_list)\n",
    "            # for g, result in zip(graph_list, sbon_result_list):\n",
    "            #     assert result is not None\n",
    "            #     sbon_calculator.add_scheduled_graph(g, result)\n",
    "            # sbon_latency, sbon_bp = sbon_calculator.compute_latency()\n",
    "            # for g in graph_list:\n",
    "            #     sbon_event_data[idx].append(sbon_latency[g.uuid] / g.number_of_vertices())\n",
    "            #     sbon_bp_data[idx].append(sbon_bp[g.uuid])\n",
    "\n",
    "            # sc.topo.clear_occupied()\n",
    "            # all_cloud_scheduler = sch.AllCloudScheduler(sc)\n",
    "            # all_cloud_calculator = sch.LatencyCalculator(sc.topo)\n",
    "            # all_cloud_result_list = all_cloud_scheduler.schedule_multiple(graph_list)\n",
    "            # for g, result in zip(graph_list, all_cloud_result_list):\n",
    "            #     assert result is not None\n",
    "            #     all_cloud_calculator.add_scheduled_graph(g, result)\n",
    "            # all_cloud_latency, all_cloud_bp = all_cloud_calculator.compute_latency()\n",
    "            # for g in graph_list:\n",
    "            #     all_cloud_event_data[idx].append(all_cloud_latency[g.uuid] / g.number_of_vertices())\n",
    "            #     all_cloud_bp_data[idx].append(all_cloud_bp[g.uuid])\n",
    "            # all_cloud_event_data[idx].extend(list(all_cloud_latency.values()))\n",
    "\n",
    "            # sc.topo.clear_occupied()\n",
    "            # edge_random_scheduler = sch.EdgeRandomScheduler(sc)\n",
    "            # edge_random_calculator = sch.LatencyCalculator(sc.topo)\n",
    "            # edge_random_result_list = edge_random_scheduler.schedule_multiple(graph_list)\n",
    "            # for g, result in zip(graph_list, edge_random_result_list):\n",
    "            #     assert result is not None\n",
    "            #     edge_random_calculator.add_scheduled_graph(g, result)\n",
    "            # edge_random_latency, edge_random_bp = edge_random_calculator.compute_latency()\n",
    "            # edge_random_event_data[idx].extend(list(edge_random_latency.values()))\n",
    "\n",
    "            # for k in all_cloud_latency.keys():\n",
    "                # flow_event_data[idx].append(flow_latency[k] / all_cloud_latency[k])\n",
    "                # edge_random_event_data[idx].append(edge_random_latency[k] / flow_latency[k])\n",
    "    flow_event_data = [big_avg(i) for i in flow_event_data]\n",
    "    flow_bp_data = [big_avg(i) for i in flow_bp_data]\n",
    "    # all_cloud_event_data = [big_avg(i) for i in all_cloud_event_data]\n",
    "    # all_cloud_bp_data = [big_avg(i) for i in all_cloud_bp_data]\n",
    "    # sbon_event_data = [big_avg(i) for i in sbon_event_data]\n",
    "    # sbon_bp_data = [big_avg(i) for i in sbon_bp_data]\n",
    "    # return flow_event_data, flow_bp_data, all_cloud_event_data, all_cloud_bp_data, sbon_event_data, sbon_bp_data\n",
    "    return flow_event_data, flow_bp_data\n",
    "    # ax_lat.plot(flow_event_data)\n",
    "    # ax_lat.plot(all_cloud_event_data)\n",
    "    # ax_bp.plot(flow_bp_data)\n",
    "    # ax_bp.plot(all_cloud_bp_data)\n",
    "    # plt.eventplot(flow_event_data, lineoffsets=[i-width for i in range(len(labels))], linelengths=width, linewidths=0.5, colors=\"C0\", orientation=\"vertical\")\n",
    "    # plt.eventplot(edge_random_event_data, lineoffsets=[i for i in range(len(labels))], linelengths=width, linewidths=0.5, colors=\"C1\", orientation=\"vertical\")\n",
    "    # plt.eventplot(all_cloud_event_data, lineoffsets=[i+width for i in range(len(labels))], linelengths=width, linewidths=0.5, colors=\"C2\", orientation=\"vertical\")\n",
    "    # plt.violinplot(flow_event_data, vert=True, positions=[i-width for i in range(len(labels))], widths=width)\n",
    "    # plt.violinplot(edge_random_event_data, vert=True, positions=[i for i in range(len(labels))], widths=width)\n",
    "    # plt.violinplot(all_cloud_event_data, vert=True, positions=[i+width for i in range(len(labels))], widths=width)"
   ]
  },
  {
   "cell_type": "code",
   "execution_count": 4,
   "metadata": {},
   "outputs": [
    {
     "name": "stdout",
     "output_type": "stream",
     "text": [
      "4\n"
     ]
    },
    {
     "data": {
      "application/vnd.jupyter.widget-view+json": {
       "model_id": "09ee17ff50b04071ad95f5daa431eeed",
       "version_major": 2,
       "version_minor": 0
      },
      "text/plain": [
       "running with 4 graphs:   0%|          | 0/100 [00:00<?, ?it/s]"
      ]
     },
     "metadata": {},
     "output_type": "display_data"
    },
    {
     "name": "stdout",
     "output_type": "stream",
     "text": [
      "8\n"
     ]
    },
    {
     "data": {
      "application/vnd.jupyter.widget-view+json": {
       "model_id": "de49758e7c4a4985b956c29d139228d0",
       "version_major": 2,
       "version_minor": 0
      },
      "text/plain": [
       "running with 8 graphs:   0%|          | 0/100 [00:00<?, ?it/s]"
      ]
     },
     "metadata": {},
     "output_type": "display_data"
    },
    {
     "name": "stdout",
     "output_type": "stream",
     "text": [
      "12\n"
     ]
    },
    {
     "data": {
      "application/vnd.jupyter.widget-view+json": {
       "model_id": "fd450673ed3e4e7b97f16c124f256d67",
       "version_major": 2,
       "version_minor": 0
      },
      "text/plain": [
       "running with 12 graphs:   0%|          | 0/100 [00:00<?, ?it/s]"
      ]
     },
     "metadata": {},
     "output_type": "display_data"
    },
    {
     "ename": "AssertionError",
     "evalue": "",
     "output_type": "error",
     "traceback": [
      "\u001b[0;31m---------------------------------------------------------------------------\u001b[0m",
      "\u001b[0;31mAssertionError\u001b[0m                            Traceback (most recent call last)",
      "Cell \u001b[0;32mIn[4], line 2\u001b[0m\n\u001b[1;32m      1\u001b[0m sc \u001b[38;5;241m=\u001b[39m topo\u001b[38;5;241m.\u001b[39mScenario\u001b[38;5;241m.\u001b[39mfrom_dict(yaml\u001b[38;5;241m.\u001b[39mload(\u001b[38;5;28mopen\u001b[39m(\u001b[38;5;124m\"\u001b[39m\u001b[38;5;124m../../samples/1e6h.yaml\u001b[39m\u001b[38;5;124m\"\u001b[39m, \u001b[38;5;124m\"\u001b[39m\u001b[38;5;124mr\u001b[39m\u001b[38;5;124m\"\u001b[39m)\u001b[38;5;241m.\u001b[39mread(), Loader\u001b[38;5;241m=\u001b[39myaml\u001b[38;5;241m.\u001b[39mLoader))\n\u001b[0;32m----> 2\u001b[0m f_lat1, f_bp1 \u001b[38;5;241m=\u001b[39m \u001b[43mrun\u001b[49m\u001b[43m(\u001b[49m\u001b[43msc\u001b[49m\u001b[43m,\u001b[49m\u001b[43m \u001b[49m\u001b[43m[\u001b[49m\u001b[38;5;241;43m4\u001b[39;49m\u001b[43m,\u001b[49m\u001b[43m \u001b[49m\u001b[38;5;241;43m8\u001b[39;49m\u001b[43m,\u001b[49m\u001b[43m \u001b[49m\u001b[38;5;241;43m12\u001b[39;49m\u001b[43m,\u001b[49m\u001b[43m \u001b[49m\u001b[38;5;241;43m16\u001b[39;49m\u001b[43m,\u001b[49m\u001b[43m \u001b[49m\u001b[38;5;241;43m20\u001b[39;49m\u001b[43m]\u001b[49m\u001b[43m,\u001b[49m\u001b[43m \u001b[49m\n\u001b[1;32m      3\u001b[0m \u001b[43m                    \u001b[49m\u001b[43m{\u001b[49m\u001b[38;5;124;43m\"\u001b[39;49m\u001b[38;5;124;43medge0\u001b[39;49m\u001b[38;5;124;43m\"\u001b[39;49m\u001b[43m:\u001b[49m\u001b[43m \u001b[49m\u001b[43m{\u001b[49m\u001b[38;5;124;43m'\u001b[39;49m\u001b[38;5;124;43me0rasp1\u001b[39;49m\u001b[38;5;124;43m'\u001b[39;49m\u001b[43m:\u001b[49m\u001b[43m \u001b[49m\u001b[38;5;241;43m10\u001b[39;49m\u001b[43m,\u001b[49m\u001b[43m \u001b[49m\u001b[38;5;124;43m'\u001b[39;49m\u001b[38;5;124;43me0rasp2\u001b[39;49m\u001b[38;5;124;43m'\u001b[39;49m\u001b[43m:\u001b[49m\u001b[43m \u001b[49m\u001b[38;5;241;43m10\u001b[39;49m\u001b[43m,\u001b[49m\u001b[43m \u001b[49m\u001b[38;5;124;43m'\u001b[39;49m\u001b[38;5;124;43me0rasp3\u001b[39;49m\u001b[38;5;124;43m'\u001b[39;49m\u001b[43m:\u001b[49m\u001b[43m \u001b[49m\u001b[38;5;241;43m10\u001b[39;49m\u001b[43m}\u001b[49m\u001b[43m,\u001b[49m\n\u001b[1;32m      4\u001b[0m \u001b[43m                    \u001b[49m\u001b[38;5;124;43m\"\u001b[39;49m\u001b[38;5;124;43medge1\u001b[39;49m\u001b[38;5;124;43m\"\u001b[39;49m\u001b[43m:\u001b[49m\u001b[43m \u001b[49m\u001b[43m{\u001b[49m\u001b[38;5;124;43m'\u001b[39;49m\u001b[38;5;124;43me1rasp1\u001b[39;49m\u001b[38;5;124;43m'\u001b[39;49m\u001b[43m:\u001b[49m\u001b[43m \u001b[49m\u001b[38;5;241;43m10\u001b[39;49m\u001b[43m,\u001b[49m\u001b[43m \u001b[49m\u001b[38;5;124;43m'\u001b[39;49m\u001b[38;5;124;43me1rasp2\u001b[39;49m\u001b[38;5;124;43m'\u001b[39;49m\u001b[43m:\u001b[49m\u001b[43m \u001b[49m\u001b[38;5;241;43m10\u001b[39;49m\u001b[43m,\u001b[49m\u001b[43m \u001b[49m\u001b[38;5;124;43m'\u001b[39;49m\u001b[38;5;124;43me1rasp3\u001b[39;49m\u001b[38;5;124;43m'\u001b[39;49m\u001b[43m:\u001b[49m\u001b[43m \u001b[49m\u001b[38;5;241;43m10\u001b[39;49m\u001b[43m}\u001b[49m\u001b[43m}\u001b[49m\u001b[43m)\u001b[49m\n\u001b[1;32m      6\u001b[0m \u001b[38;5;66;03m# sc = topo.Scenario.from_dict(yaml.load(open(\"../../samples/1e18h.yaml\", \"r\").read(), Loader=yaml.Loader))\u001b[39;00m\n\u001b[1;32m      7\u001b[0m \u001b[38;5;66;03m# edge0 = {\"e0rasp\"+str(i): 8 for i in range(1, 7)}\u001b[39;00m\n\u001b[1;32m      8\u001b[0m \u001b[38;5;66;03m# edge1 = {\"e1rasp\"+str(i): 8 for i in range(1, 4)}\u001b[39;00m\n\u001b[0;32m   (...)\u001b[0m\n\u001b[1;32m     12\u001b[0m \u001b[38;5;66;03m# source_dict = {\"edge0\": edge0, \"edge1\": edge1, \"edge2\": edge2}\u001b[39;00m\n\u001b[1;32m     13\u001b[0m \u001b[38;5;66;03m# f_lat2, f_bp2 = run(sc, [40, 60, 80, 100, 120], source_dict)\u001b[39;00m\n\u001b[1;32m     15\u001b[0m \u001b[38;5;28mprint\u001b[39m(f_lat1)\n",
      "Cell \u001b[0;32mIn[3], line 22\u001b[0m, in \u001b[0;36mrun\u001b[0;34m(sc, labels, source_selector_dict)\u001b[0m\n\u001b[1;32m     20\u001b[0m flow_scheduler \u001b[38;5;241m=\u001b[39m sch\u001b[38;5;241m.\u001b[39mMultiEdgeFlowScheduler(sc)\n\u001b[1;32m     21\u001b[0m flow_calculator \u001b[38;5;241m=\u001b[39m sch\u001b[38;5;241m.\u001b[39mLatencyCalculator(sc\u001b[38;5;241m.\u001b[39mtopo)\n\u001b[0;32m---> 22\u001b[0m flow_result_list \u001b[38;5;241m=\u001b[39m \u001b[43mflow_scheduler\u001b[49m\u001b[38;5;241;43m.\u001b[39;49m\u001b[43mschedule_multiple\u001b[49m\u001b[43m(\u001b[49m\u001b[43mgraph_list\u001b[49m\u001b[43m)\u001b[49m\n\u001b[1;32m     23\u001b[0m \u001b[38;5;28;01mfor\u001b[39;00m g, result \u001b[38;5;129;01min\u001b[39;00m \u001b[38;5;28mzip\u001b[39m(graph_list, flow_result_list):\n\u001b[1;32m     24\u001b[0m     \u001b[38;5;28;01massert\u001b[39;00m result \u001b[38;5;129;01mis\u001b[39;00m \u001b[38;5;129;01mnot\u001b[39;00m \u001b[38;5;28;01mNone\u001b[39;00m\n",
      "File \u001b[0;32m/mnt/e/Projects/stream-scheduling-simulator/scripts/multiedge-exp/../../schedule/multiedge_flow_scheduler.py:92\u001b[0m, in \u001b[0;36mMultiEdgeFlowScheduler.schedule_multiple\u001b[0;34m(self, graph_list)\u001b[0m\n\u001b[1;32m     79\u001b[0m     \u001b[39mcontinue\u001b[39;00m\n\u001b[1;32m     81\u001b[0m \u001b[39m# for s_graph, t_graph in zip(s_graph_list, t_graph_list):\u001b[39;00m\n\u001b[1;32m     82\u001b[0m \u001b[39m#     print(\"s_graph, t_graph:\")\u001b[39;00m\n\u001b[1;32m     83\u001b[0m \u001b[39m#     print(s_graph.g.nodes)\u001b[39;00m\n\u001b[0;32m   (...)\u001b[0m\n\u001b[1;32m     90\u001b[0m \u001b[39m#     \"t_graph_list: %s\", [g.number_of_vertices() for g in t_graph_list]\u001b[39;00m\n\u001b[1;32m     91\u001b[0m \u001b[39m# )\u001b[39;00m\n\u001b[0;32m---> 92\u001b[0m s_result_list \u001b[39m=\u001b[39m \u001b[39mself\u001b[39;49m\u001b[39m.\u001b[39;49mget_provisioner(domain_name)\u001b[39m.\u001b[39;49mschedule_multiple(\n\u001b[1;32m     93\u001b[0m     s_graph_list\n\u001b[1;32m     94\u001b[0m )\n\u001b[1;32m     95\u001b[0m \u001b[39m# self.logger.info(\"s_result_list: %s\", s_result_list)\u001b[39;00m\n\u001b[1;32m     96\u001b[0m \u001b[39mfor\u001b[39;00m sg, s_result \u001b[39min\u001b[39;00m \u001b[39mzip\u001b[39m(sg_list, s_result_list):\n",
      "File \u001b[0;32m/mnt/e/Projects/stream-scheduling-simulator/scripts/multiedge-exp/../../schedule/flow_provisioner.py:347\u001b[0m, in \u001b[0;36mTopologicalProvisioner.schedule_multiple\u001b[0;34m(self, graph_list)\u001b[0m\n\u001b[1;32m    345\u001b[0m \u001b[39mfor\u001b[39;00m g \u001b[39min\u001b[39;00m graph_list:\n\u001b[1;32m    346\u001b[0m     \u001b[39mself\u001b[39m\u001b[39m.\u001b[39minitial_graph_placement(g)\n\u001b[0;32m--> 347\u001b[0m \u001b[39mself\u001b[39;49m\u001b[39m.\u001b[39;49mrebalance()\n\u001b[1;32m    348\u001b[0m \u001b[39mreturn\u001b[39;00m [\u001b[39mself\u001b[39m\u001b[39m.\u001b[39mgather_scheduling_result(g) \u001b[39mfor\u001b[39;00m g \u001b[39min\u001b[39;00m graph_list]\n",
      "File \u001b[0;32m/mnt/e/Projects/stream-scheduling-simulator/scripts/multiedge-exp/../../schedule/flow_provisioner.py:386\u001b[0m, in \u001b[0;36mTopologicalProvisioner.rebalance\u001b[0;34m(self)\u001b[0m\n\u001b[1;32m    383\u001b[0m count \u001b[39m=\u001b[39m \u001b[39m0\u001b[39m\n\u001b[1;32m    384\u001b[0m \u001b[39mwhile\u001b[39;00m \u001b[39mTrue\u001b[39;00m:\n\u001b[1;32m    385\u001b[0m     \u001b[39m# print(\"rebalance round\", count)\u001b[39;00m\n\u001b[0;32m--> 386\u001b[0m     \u001b[39mif\u001b[39;00m \u001b[39mnot\u001b[39;00m \u001b[39mself\u001b[39;49m\u001b[39m.\u001b[39;49mtree\u001b[39m.\u001b[39;49mstep():\n\u001b[1;32m    387\u001b[0m         \u001b[39mbreak\u001b[39;00m\n\u001b[1;32m    388\u001b[0m     count \u001b[39m+\u001b[39m\u001b[39m=\u001b[39m \u001b[39m1\u001b[39m\n",
      "File \u001b[0;32m/mnt/e/Projects/stream-scheduling-simulator/scripts/multiedge-exp/../../schedule/flow_provisioner.py:286\u001b[0m, in \u001b[0;36mProvisionTree.step\u001b[0;34m(self)\u001b[0m\n\u001b[1;32m    284\u001b[0m     \u001b[39mprint\u001b[39m(\u001b[39m\"\u001b[39m\u001b[39m=== new round \u001b[39m\u001b[39m{}\u001b[39;00m\u001b[39m ===\u001b[39m\u001b[39m\"\u001b[39m\u001b[39m.\u001b[39mformat(\u001b[39mself\u001b[39m\u001b[39m.\u001b[39mstep_count))\n\u001b[1;32m    285\u001b[0m \u001b[39mself\u001b[39m\u001b[39m.\u001b[39mstep_count \u001b[39m+\u001b[39m\u001b[39m=\u001b[39m \u001b[39m1\u001b[39m\n\u001b[0;32m--> 286\u001b[0m node_step_map \u001b[39m=\u001b[39m {k: v\u001b[39m.\u001b[39mstep() \u001b[39mfor\u001b[39;00m k, v \u001b[39min\u001b[39;00m \u001b[39mself\u001b[39m\u001b[39m.\u001b[39mname_lookup_map\u001b[39m.\u001b[39mitems()}\n\u001b[1;32m    287\u001b[0m \u001b[39mif\u001b[39;00m \u001b[39mself\u001b[39m\u001b[39m.\u001b[39mdebug:\n\u001b[1;32m    288\u001b[0m     \u001b[39mfor\u001b[39;00m k, v \u001b[39min\u001b[39;00m node_step_map\u001b[39m.\u001b[39mitems():\n",
      "File \u001b[0;32m/mnt/e/Projects/stream-scheduling-simulator/scripts/multiedge-exp/../../schedule/flow_provisioner.py:286\u001b[0m, in \u001b[0;36m<dictcomp>\u001b[0;34m(.0)\u001b[0m\n\u001b[1;32m    284\u001b[0m     \u001b[39mprint\u001b[39m(\u001b[39m\"\u001b[39m\u001b[39m=== new round \u001b[39m\u001b[39m{}\u001b[39;00m\u001b[39m ===\u001b[39m\u001b[39m\"\u001b[39m\u001b[39m.\u001b[39mformat(\u001b[39mself\u001b[39m\u001b[39m.\u001b[39mstep_count))\n\u001b[1;32m    285\u001b[0m \u001b[39mself\u001b[39m\u001b[39m.\u001b[39mstep_count \u001b[39m+\u001b[39m\u001b[39m=\u001b[39m \u001b[39m1\u001b[39m\n\u001b[0;32m--> 286\u001b[0m node_step_map \u001b[39m=\u001b[39m {k: v\u001b[39m.\u001b[39;49mstep() \u001b[39mfor\u001b[39;00m k, v \u001b[39min\u001b[39;00m \u001b[39mself\u001b[39m\u001b[39m.\u001b[39mname_lookup_map\u001b[39m.\u001b[39mitems()}\n\u001b[1;32m    287\u001b[0m \u001b[39mif\u001b[39;00m \u001b[39mself\u001b[39m\u001b[39m.\u001b[39mdebug:\n\u001b[1;32m    288\u001b[0m     \u001b[39mfor\u001b[39;00m k, v \u001b[39min\u001b[39;00m node_step_map\u001b[39m.\u001b[39mitems():\n",
      "File \u001b[0;32m/mnt/e/Projects/stream-scheduling-simulator/scripts/multiedge-exp/../../schedule/flow_provisioner.py:96\u001b[0m, in \u001b[0;36mProvisionNode.step\u001b[0;34m(self)\u001b[0m\n\u001b[1;32m     93\u001b[0m \u001b[39m# self.logger.debug(\"after local scheduling: %s\", self.unscheduled_graphs)\u001b[39;00m\n\u001b[1;32m     95\u001b[0m \u001b[39mif\u001b[39;00m \u001b[39mlen\u001b[39m(\u001b[39mself\u001b[39m\u001b[39m.\u001b[39munscheduled_graphs) \u001b[39m>\u001b[39m \u001b[39m0\u001b[39m:\n\u001b[0;32m---> 96\u001b[0m     graph_passed_to_children \u001b[39m=\u001b[39m \u001b[39mself\u001b[39;49m\u001b[39m.\u001b[39;49mpass_graph_to_children()\n\u001b[1;32m     97\u001b[0m     \u001b[39mself\u001b[39m\u001b[39m.\u001b[39mrearrange_graphs()\n\u001b[1;32m     98\u001b[0m \u001b[39melse\u001b[39;00m:\n",
      "File \u001b[0;32m/mnt/e/Projects/stream-scheduling-simulator/scripts/multiedge-exp/../../schedule/flow_provisioner.py:229\u001b[0m, in \u001b[0;36mProvisionNode.pass_graph_to_children\u001b[0;34m(self)\u001b[0m\n\u001b[1;32m    223\u001b[0m \u001b[39m# REVIEW upstream_bd could be replaced with exact cross-cut bd\u001b[39;00m\n\u001b[1;32m    224\u001b[0m groups \u001b[39m=\u001b[39m [\n\u001b[1;32m    225\u001b[0m     [(v_count, v\u001b[39m.\u001b[39mupstream_bd) \u001b[39mfor\u001b[39;00m v_count, v \u001b[39min\u001b[39;00m \u001b[39menumerate\u001b[39m(vs)]\n\u001b[1;32m    226\u001b[0m     \u001b[39m+\u001b[39m [(\u001b[39mlen\u001b[39m(vs), vs[\u001b[39mlen\u001b[39m(vs) \u001b[39m-\u001b[39m \u001b[39m1\u001b[39m]\u001b[39m.\u001b[39mdownstream_bd)]\n\u001b[1;32m    227\u001b[0m     \u001b[39mfor\u001b[39;00m vs \u001b[39min\u001b[39;00m topological_sorted_graphs\n\u001b[1;32m    228\u001b[0m ]\n\u001b[0;32m--> 229\u001b[0m solution \u001b[39m=\u001b[39m grouped_exactly_one_full_binpack(child_slots, groups)\n\u001b[1;32m    230\u001b[0m \u001b[39mfor\u001b[39;00m graph, vertices, group, s_idx \u001b[39min\u001b[39;00m \u001b[39mzip\u001b[39m(\n\u001b[1;32m    231\u001b[0m     \u001b[39mself\u001b[39m\u001b[39m.\u001b[39munscheduled_graphs, topological_sorted_graphs, groups, solution\n\u001b[1;32m    232\u001b[0m ):\n\u001b[1;32m    233\u001b[0m     v_count \u001b[39m=\u001b[39m group[s_idx][\u001b[39m0\u001b[39m]\n",
      "File \u001b[0;32m/mnt/e/Projects/stream-scheduling-simulator/scripts/multiedge-exp/../../utils.py:125\u001b[0m, in \u001b[0;36mgrouped_exactly_one_full_binpack\u001b[0;34m(n_slot, groups)\u001b[0m\n\u001b[1;32m    123\u001b[0m                 choices[gid, capacity] \u001b[39m=\u001b[39m eid\n\u001b[1;32m    124\u001b[0m \u001b[39m# valid_idx = np.where(selected == len(groups))[0]\u001b[39;00m\n\u001b[0;32m--> 125\u001b[0m \u001b[39massert\u001b[39;00m selected[n_slot] \u001b[39m==\u001b[39m \u001b[39mlen\u001b[39m(groups)\n\u001b[1;32m    126\u001b[0m backtrace \u001b[39m=\u001b[39m n_slot\n\u001b[1;32m    127\u001b[0m \u001b[39m# backtrace = valid_idx[-1]\u001b[39;00m\n",
      "\u001b[0;31mAssertionError\u001b[0m: "
     ]
    }
   ],
   "source": [
    "sc = topo.Scenario.from_dict(yaml.load(open(\"../../samples/1e6h.yaml\", \"r\").read(), Loader=yaml.Loader))\n",
    "f_lat1, f_bp1 = run(sc, [4, 8, 12, 16, 20], \n",
    "                    {\"edge0\": {'e0rasp1': 10, 'e0rasp2': 10, 'e0rasp3': 10},\n",
    "                    \"edge1\": {'e1rasp1': 10, 'e1rasp2': 10, 'e1rasp3': 10}})\n",
    "\n",
    "# sc = topo.Scenario.from_dict(yaml.load(open(\"../../samples/1e18h.yaml\", \"r\").read(), Loader=yaml.Loader))\n",
    "# edge0 = {\"e0rasp\"+str(i): 8 for i in range(1, 7)}\n",
    "# edge1 = {\"e1rasp\"+str(i): 8 for i in range(1, 4)}\n",
    "# edge1.update({\"e1vm\"+str(i): 16 for i in range(1, 4)})\n",
    "# edge2 = {\"e2rasp\"+str(i): 8 for i in range(1, 5)}\n",
    "# edge2.update({\"e2vm\"+str(i): 16 for i in range(1, 3)})\n",
    "# source_dict = {\"edge0\": edge0, \"edge1\": edge1, \"edge2\": edge2}\n",
    "# f_lat2, f_bp2 = run(sc, [40, 60, 80, 100, 120], source_dict)\n",
    "\n",
    "print(f_lat1)\n",
    "# print(f_lat2)"
   ]
  }
 ],
 "metadata": {
  "kernelspec": {
   "display_name": "Python 3.8.10 ('stream-scheduling-simulator': venv)",
   "language": "python",
   "name": "python3"
  },
  "language_info": {
   "codemirror_mode": {
    "name": "ipython",
    "version": 3
   },
   "file_extension": ".py",
   "mimetype": "text/x-python",
   "name": "python",
   "nbconvert_exporter": "python",
   "pygments_lexer": "ipython3",
   "version": "3.8.10"
  },
  "orig_nbformat": 4,
  "vscode": {
   "interpreter": {
    "hash": "673be82b3945be666da6bf363071c2e2d267065e5c5e23d9e713784609e0345a"
   }
  }
 },
 "nbformat": 4,
 "nbformat_minor": 2
}
