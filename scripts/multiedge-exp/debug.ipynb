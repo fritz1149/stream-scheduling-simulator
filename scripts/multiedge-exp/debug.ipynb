{
 "cells": [
  {
   "cell_type": "code",
   "execution_count": 1,
   "metadata": {},
   "outputs": [],
   "source": [
    "import sys\n",
    "sys.path.insert(0, '../../')\n",
    "\n",
    "import graph\n",
    "import importlib\n",
    "import math\n",
    "import matplotlib\n",
    "import matplotlib.pyplot as plt\n",
    "import numpy as np\n",
    "import random\n",
    "import schedule as sch\n",
    "import topo\n",
    "import typing\n",
    "import utils\n",
    "import yaml\n",
    "from tqdm.notebook import tqdm\n",
    "\n",
    "matplotlib.rc('font', family='Times New Roman', size=16)"
   ]
  },
  {
   "cell_type": "code",
   "execution_count": 2,
   "metadata": {},
   "outputs": [],
   "source": [
    "def unit_size_cb(r: int):\n",
    "    return 10000 * math.pow(10, random.randint(0, 1))\n",
    "\n",
    "def gen_graphs(graph_count, source_selector_dict):\n",
    "    source_selector = graph.MultiDomainSourceSelector(source_selector_dict)\n",
    "    gen_args_list = [\n",
    "            {\n",
    "            \"total_rank\": random.randint(3, 7),\n",
    "            \"max_node_per_rank\": random.randint(1, 3),\n",
    "            \"max_predecessors\": random.randint(1, 2),\n",
    "            \"mi_cb\": lambda: 1,\n",
    "            \"memory_cb\": lambda: int(2e8),\n",
    "            \"unit_size_cb\": unit_size_cb,\n",
    "            \"unit_rate_cb\": lambda: random.randint(10, 20),\n",
    "            \"source_hosts\": source_selector,\n",
    "            \"sink_hosts\": [\"cloud1\"],\n",
    "            \"sources_num\": random.randint(1, 3),\n",
    "        }\n",
    "        for _ in range(graph_count)\n",
    "    ]\n",
    "    return [\n",
    "        graph.MultiSourceGraphGenerator(\"g\" + str(idx), **gen_args).gen_dag_graph()\n",
    "        for idx, gen_args in enumerate(gen_args_list)\n",
    "    ]"
   ]
  },
  {
   "cell_type": "code",
   "execution_count": 3,
   "metadata": {},
   "outputs": [
    {
     "name": "stdout",
     "output_type": "stream",
     "text": [
      "g0 :\n",
      "[('g0-v0', 'edge1'), ('g0-v1', 'edge1'), ('g0-v2', 'edge1'), ('g0-v3', 'cloud'), ('g0-v4', 'edge1'), ('g0-v5', 'cloud'), ('g0-v6', 'cloud'), ('g0-v7', 'cloud'), ('g0-v8', 'cloud'), ('g0-v9', 'cloud')]\n",
      "[('g0-v0', 'source'), ('g0-v1', 'source'), ('g0-v2', 'operator'), ('g0-v3', 'sink'), ('g0-v4', 'operator'), ('g0-v5', 'sink'), ('g0-v6', 'sink'), ('g0-v7', 'sink'), ('g0-v8', 'sink'), ('g0-v9', 'sink')]\n",
      "[('g0-v0', 'g0-v2'), ('g0-v0', 'g0-v9'), ('g0-v1', 'g0-v4'), ('g0-v2', 'g0-v3'), ('g0-v2', 'g0-v8'), ('g0-v4', 'g0-v5'), ('g0-v4', 'g0-v6'), ('g0-v4', 'g0-v7')]\n",
      "['g0-v3', 'g0-v5', 'g0-v6', 'g0-v7', 'g0-v8', 'g0-v9']\n",
      "g1 :\n",
      "[('g1-v0', 'edge1'), ('g1-v1', 'edge0'), ('g1-v2', 'edge0'), ('g1-v3', 'edge0'), ('g1-v4', 'edge0'), ('g1-v5', 'cloud'), ('g1-v6', 'cloud')]\n",
      "[('g1-v0', 'source'), ('g1-v1', 'source'), ('g1-v2', 'operator'), ('g1-v3', 'operator'), ('g1-v4', 'operator'), ('g1-v5', 'sink'), ('g1-v6', 'sink')]\n",
      "[('g1-v0', 'g1-v6'), ('g1-v1', 'g1-v2'), ('g1-v2', 'g1-v3'), ('g1-v3', 'g1-v4'), ('g1-v4', 'g1-v5')]\n",
      "['g1-v5', 'g1-v6']\n",
      "g2 :\n",
      "[('g2-v0', 'edge0'), ('g2-v1', 'edge0'), ('g2-v2', 'cloud'), ('g2-v3', 'cloud'), ('g2-v4', 'edge0'), ('g2-v5', 'edge0'), ('g2-v6', 'cloud')]\n",
      "[('g2-v0', 'source'), ('g2-v1', 'operator'), ('g2-v2', 'sink'), ('g2-v3', 'sink'), ('g2-v4', 'operator'), ('g2-v5', 'operator'), ('g2-v6', 'sink')]\n",
      "[('g2-v0', 'g2-v1'), ('g2-v0', 'g2-v2'), ('g2-v0', 'g2-v4'), ('g2-v1', 'g2-v3'), ('g2-v4', 'g2-v5'), ('g2-v5', 'g2-v6')]\n",
      "['g2-v2', 'g2-v3', 'g2-v6']\n"
     ]
    }
   ],
   "source": [
    "# 多边缘的流式计算图生成测试\n",
    "graph_list = gen_graphs(3, {\"edge0\": {'e0rasp1': 8, 'e0rasp2': 8, 'e0rasp3': 8},\n",
    "                        \"edge1\": {'e1rasp1': 8, 'e1rasp2': 8, 'e1rasp3': 8}})\n",
    "for graph in graph_list:\n",
    "    print(graph.uuid, \":\")\n",
    "    print(graph.g.nodes.data(\"color\"))\n",
    "    print(graph.g.nodes.data(\"type\"))\n",
    "    print(graph.g.edges)\n",
    "    print([n.uuid for n in graph.get_cloud_vertices()])"
   ]
  },
  {
   "cell_type": "code",
   "execution_count": 4,
   "metadata": {},
   "outputs": [
    {
     "name": "stdout",
     "output_type": "stream",
     "text": [
      "['cloud0_router', 'cloud_switch', 'cloud1', 'edge0_router', 'e0rasp_switch', 'e0rasp1', 'e0rasp2', 'e0rasp3', 'edge1_router', 'e1rasp_switch', 'e1rasp1', 'e1rasp2', 'e1rasp3']\n"
     ]
    }
   ],
   "source": [
    "sc = topo.Scenario.from_dict(yaml.load(open(\"../../samples/1e6h.yaml\", \"r\").read(), Loader=yaml.Loader))\n",
    "print(sc.topo.g.nodes)"
   ]
  },
  {
   "cell_type": "code",
   "execution_count": 6,
   "metadata": {},
   "outputs": [
    {
     "name": "stdout",
     "output_type": "stream",
     "text": [
      "\n",
      "\n",
      "\n",
      "{'g0': 31.797861811391225, 'g1': 31.97833333333333, 'g2': 27.924866310160425}\n"
     ]
    }
   ],
   "source": [
    "sc.topo.clear_occupied()\n",
    "flow_scheduler = sch.MultiEdgeFlowScheduler(sc)\n",
    "flow_calculator = sch.LatencyCalculator(sc.topo)\n",
    "flow_result_list = flow_scheduler.schedule_multiple(graph_list)\n",
    "for g, result in zip(graph_list, flow_result_list):\n",
    "    assert result is not None\n",
    "    flow_calculator.add_scheduled_graph(g, result)\n",
    "    print()\n",
    "flow_latency, flow_bp, _ = flow_calculator.compute_latency()\n",
    "print(flow_latency)"
   ]
  }
 ],
 "metadata": {
  "kernelspec": {
   "display_name": "Python 3.8.10 ('stream-scheduling-simulator': venv)",
   "language": "python",
   "name": "python3"
  },
  "language_info": {
   "codemirror_mode": {
    "name": "ipython",
    "version": 3
   },
   "file_extension": ".py",
   "mimetype": "text/x-python",
   "name": "python",
   "nbconvert_exporter": "python",
   "pygments_lexer": "ipython3",
   "version": "3.8.10"
  },
  "orig_nbformat": 4,
  "vscode": {
   "interpreter": {
    "hash": "673be82b3945be666da6bf363071c2e2d267065e5c5e23d9e713784609e0345a"
   }
  }
 },
 "nbformat": 4,
 "nbformat_minor": 2
}
