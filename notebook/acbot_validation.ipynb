{
 "cells": [
  {
   "cell_type": "code",
   "execution_count": 1,
   "metadata": {},
   "outputs": [],
   "source": [
    "import sys\n",
    "sys.path.insert(0, '../')"
   ]
  },
  {
   "cell_type": "code",
   "execution_count": 4,
   "metadata": {},
   "outputs": [],
   "source": [
    "import graph\n",
    "import importlib\n",
    "import math\n",
    "import matplotlib\n",
    "import matplotlib.pyplot as plt\n",
    "import numpy as np\n",
    "import random\n",
    "import schedule as sch\n",
    "import topo\n",
    "import typing\n",
    "import utils\n",
    "import yaml"
   ]
  },
  {
   "cell_type": "code",
   "execution_count": 5,
   "metadata": {},
   "outputs": [],
   "source": [
    "with open(\"../cases/acbot_validation_1.yaml\") as f:\n",
    "    graph_list = graph.ExecutionGraph.load_all(f)\n",
    "topo_file = \"../samples/acbot_validation.yaml\"\n",
    "sc = topo.Scenario.from_dict(yaml.load(open(topo_file, \"r\").read(), Loader=yaml.Loader))"
   ]
  },
  {
   "cell_type": "code",
   "execution_count": 6,
   "metadata": {},
   "outputs": [
    {
     "ename": "AssertionError",
     "evalue": "",
     "output_type": "error",
     "traceback": [
      "\u001b[1;31m---------------------------------------------------------------------------\u001b[0m",
      "\u001b[1;31mAssertionError\u001b[0m                            Traceback (most recent call last)",
      "Cell \u001b[1;32mIn[6], line 1\u001b[0m\n\u001b[1;32m----> 1\u001b[0m scheduler \u001b[38;5;241m=\u001b[39m \u001b[43msch\u001b[49m\u001b[38;5;241;43m.\u001b[39;49m\u001b[43mFlowScheduler\u001b[49m\u001b[43m(\u001b[49m\u001b[43msc\u001b[49m\u001b[43m)\u001b[49m\n\u001b[0;32m      2\u001b[0m result \u001b[38;5;241m=\u001b[39m scheduler\u001b[38;5;241m.\u001b[39mschedule_multiple(graph_list)\n\u001b[0;32m      3\u001b[0m \u001b[38;5;28;01mfor\u001b[39;00m r \u001b[38;5;129;01min\u001b[39;00m result:\n",
      "File \u001b[1;32me:\\Projects\\stream-scheduling-simulator\\schedule\\flow_scheduler.py:21\u001b[0m, in \u001b[0;36mFlowScheduler.__init__\u001b[1;34m(self, scenario, provision_type)\u001b[0m\n\u001b[0;32m     19\u001b[0m \u001b[39mdef\u001b[39;00m \u001b[39m__init__\u001b[39m(\u001b[39mself\u001b[39m, scenario: Scenario, provision_type: \u001b[39mstr\u001b[39m \u001b[39m=\u001b[39m \u001b[39m\"\u001b[39m\u001b[39mtopo\u001b[39m\u001b[39m\"\u001b[39m) \u001b[39m-\u001b[39m\u001b[39m>\u001b[39m \u001b[39mNone\u001b[39;00m:\n\u001b[0;32m     20\u001b[0m     \u001b[39msuper\u001b[39m()\u001b[39m.\u001b[39m\u001b[39m__init__\u001b[39m(scenario)\n\u001b[1;32m---> 21\u001b[0m     \u001b[39mself\u001b[39;49m\u001b[39m.\u001b[39;49minit_provisioner(provision_type)\n",
      "File \u001b[1;32me:\\Projects\\stream-scheduling-simulator\\schedule\\flow_scheduler.py:29\u001b[0m, in \u001b[0;36mFlowScheduler.init_provisioner\u001b[1;34m(self, provision_type)\u001b[0m\n\u001b[0;32m     26\u001b[0m         \u001b[39mreturn\u001b[39;00m TopologicalProvisioner(domain)\n\u001b[0;32m     27\u001b[0m     \u001b[39mraise\u001b[39;00m \u001b[39mValueError\u001b[39;00m(\u001b[39m\"\u001b[39m\u001b[39munknown provision type\u001b[39m\u001b[39m\"\u001b[39m)\n\u001b[1;32m---> 29\u001b[0m \u001b[39mself\u001b[39m\u001b[39m.\u001b[39mprovisioner_map \u001b[39m=\u001b[39m {\n\u001b[0;32m     30\u001b[0m     d\u001b[39m.\u001b[39mname: provisioner_creator(d) \u001b[39mfor\u001b[39;00m d \u001b[39min\u001b[39;00m \u001b[39mself\u001b[39m\u001b[39m.\u001b[39mscenario\u001b[39m.\u001b[39mdomains\n\u001b[0;32m     31\u001b[0m }\n",
      "File \u001b[1;32me:\\Projects\\stream-scheduling-simulator\\schedule\\flow_scheduler.py:30\u001b[0m, in \u001b[0;36m<dictcomp>\u001b[1;34m(.0)\u001b[0m\n\u001b[0;32m     26\u001b[0m         \u001b[39mreturn\u001b[39;00m TopologicalProvisioner(domain)\n\u001b[0;32m     27\u001b[0m     \u001b[39mraise\u001b[39;00m \u001b[39mValueError\u001b[39;00m(\u001b[39m\"\u001b[39m\u001b[39munknown provision type\u001b[39m\u001b[39m\"\u001b[39m)\n\u001b[0;32m     29\u001b[0m \u001b[39mself\u001b[39m\u001b[39m.\u001b[39mprovisioner_map \u001b[39m=\u001b[39m {\n\u001b[1;32m---> 30\u001b[0m     d\u001b[39m.\u001b[39mname: provisioner_creator(d) \u001b[39mfor\u001b[39;00m d \u001b[39min\u001b[39;00m \u001b[39mself\u001b[39m\u001b[39m.\u001b[39mscenario\u001b[39m.\u001b[39mdomains\n\u001b[0;32m     31\u001b[0m }\n",
      "File \u001b[1;32me:\\Projects\\stream-scheduling-simulator\\schedule\\flow_scheduler.py:26\u001b[0m, in \u001b[0;36mFlowScheduler.init_provisioner.<locals>.provisioner_creator\u001b[1;34m(domain)\u001b[0m\n\u001b[0;32m     24\u001b[0m \u001b[39mdef\u001b[39;00m \u001b[39mprovisioner_creator\u001b[39m(domain: Domain):\n\u001b[0;32m     25\u001b[0m     \u001b[39mif\u001b[39;00m provision_type \u001b[39m==\u001b[39m \u001b[39m\"\u001b[39m\u001b[39mtopo\u001b[39m\u001b[39m\"\u001b[39m:\n\u001b[1;32m---> 26\u001b[0m         \u001b[39mreturn\u001b[39;00m TopologicalProvisioner(domain)\n\u001b[0;32m     27\u001b[0m     \u001b[39mraise\u001b[39;00m \u001b[39mValueError\u001b[39;00m(\u001b[39m\"\u001b[39m\u001b[39munknown provision type\u001b[39m\u001b[39m\"\u001b[39m)\n",
      "File \u001b[1;32me:\\Projects\\stream-scheduling-simulator\\schedule\\flow_provisioner.py:331\u001b[0m, in \u001b[0;36mTopologicalProvisioner.__init__\u001b[1;34m(self, domain)\u001b[0m\n\u001b[0;32m    329\u001b[0m \u001b[39mself\u001b[39m\u001b[39m.\u001b[39mtree \u001b[39m=\u001b[39m \u001b[39mself\u001b[39m\u001b[39m.\u001b[39mbuild_provisioner_tree()\n\u001b[0;32m    330\u001b[0m \u001b[39m# NOTE initial propagation for slots\u001b[39;00m\n\u001b[1;32m--> 331\u001b[0m \u001b[39mself\u001b[39;49m\u001b[39m.\u001b[39;49mrebalance()\n",
      "File \u001b[1;32me:\\Projects\\stream-scheduling-simulator\\schedule\\flow_provisioner.py:366\u001b[0m, in \u001b[0;36mTopologicalProvisioner.rebalance\u001b[1;34m(self)\u001b[0m\n\u001b[0;32m    363\u001b[0m count \u001b[39m=\u001b[39m \u001b[39m0\u001b[39m\n\u001b[0;32m    364\u001b[0m \u001b[39mwhile\u001b[39;00m \u001b[39mTrue\u001b[39;00m:\n\u001b[0;32m    365\u001b[0m     \u001b[39m# print(\"rebalance round\", count)\u001b[39;00m\n\u001b[1;32m--> 366\u001b[0m     \u001b[39mif\u001b[39;00m \u001b[39mnot\u001b[39;00m \u001b[39mself\u001b[39;49m\u001b[39m.\u001b[39;49mtree\u001b[39m.\u001b[39;49mstep():\n\u001b[0;32m    367\u001b[0m         \u001b[39mbreak\u001b[39;00m\n\u001b[0;32m    368\u001b[0m     count \u001b[39m+\u001b[39m\u001b[39m=\u001b[39m \u001b[39m1\u001b[39m\n",
      "File \u001b[1;32me:\\Projects\\stream-scheduling-simulator\\schedule\\flow_provisioner.py:283\u001b[0m, in \u001b[0;36mProvisionTree.step\u001b[1;34m(self)\u001b[0m\n\u001b[0;32m    281\u001b[0m     \u001b[39mprint\u001b[39m(\u001b[39m\"\u001b[39m\u001b[39m=== new round \u001b[39m\u001b[39m{}\u001b[39;00m\u001b[39m ===\u001b[39m\u001b[39m\"\u001b[39m\u001b[39m.\u001b[39mformat(\u001b[39mself\u001b[39m\u001b[39m.\u001b[39mstep_count))\n\u001b[0;32m    282\u001b[0m \u001b[39mself\u001b[39m\u001b[39m.\u001b[39mstep_count \u001b[39m+\u001b[39m\u001b[39m=\u001b[39m \u001b[39m1\u001b[39m\n\u001b[1;32m--> 283\u001b[0m node_step_map \u001b[39m=\u001b[39m {k: v\u001b[39m.\u001b[39mstep() \u001b[39mfor\u001b[39;00m k, v \u001b[39min\u001b[39;00m \u001b[39mself\u001b[39m\u001b[39m.\u001b[39mname_lookup_map\u001b[39m.\u001b[39mitems()}\n\u001b[0;32m    284\u001b[0m \u001b[39mif\u001b[39;00m \u001b[39mself\u001b[39m\u001b[39m.\u001b[39mdebug:\n\u001b[0;32m    285\u001b[0m     \u001b[39mfor\u001b[39;00m k, v \u001b[39min\u001b[39;00m node_step_map\u001b[39m.\u001b[39mitems():\n",
      "File \u001b[1;32me:\\Projects\\stream-scheduling-simulator\\schedule\\flow_provisioner.py:283\u001b[0m, in \u001b[0;36m<dictcomp>\u001b[1;34m(.0)\u001b[0m\n\u001b[0;32m    281\u001b[0m     \u001b[39mprint\u001b[39m(\u001b[39m\"\u001b[39m\u001b[39m=== new round \u001b[39m\u001b[39m{}\u001b[39;00m\u001b[39m ===\u001b[39m\u001b[39m\"\u001b[39m\u001b[39m.\u001b[39mformat(\u001b[39mself\u001b[39m\u001b[39m.\u001b[39mstep_count))\n\u001b[0;32m    282\u001b[0m \u001b[39mself\u001b[39m\u001b[39m.\u001b[39mstep_count \u001b[39m+\u001b[39m\u001b[39m=\u001b[39m \u001b[39m1\u001b[39m\n\u001b[1;32m--> 283\u001b[0m node_step_map \u001b[39m=\u001b[39m {k: v\u001b[39m.\u001b[39;49mstep() \u001b[39mfor\u001b[39;00m k, v \u001b[39min\u001b[39;00m \u001b[39mself\u001b[39m\u001b[39m.\u001b[39mname_lookup_map\u001b[39m.\u001b[39mitems()}\n\u001b[0;32m    284\u001b[0m \u001b[39mif\u001b[39;00m \u001b[39mself\u001b[39m\u001b[39m.\u001b[39mdebug:\n\u001b[0;32m    285\u001b[0m     \u001b[39mfor\u001b[39;00m k, v \u001b[39min\u001b[39;00m node_step_map\u001b[39m.\u001b[39mitems():\n",
      "File \u001b[1;32me:\\Projects\\stream-scheduling-simulator\\schedule\\flow_provisioner.py:91\u001b[0m, in \u001b[0;36mProvisionNode.step\u001b[1;34m(self)\u001b[0m\n\u001b[0;32m     88\u001b[0m     \u001b[39mreturn\u001b[39;00m \u001b[39mFalse\u001b[39;00m, \u001b[39mNone\u001b[39;00m, \u001b[39mNone\u001b[39;00m\n\u001b[0;32m     90\u001b[0m \u001b[39mif\u001b[39;00m \u001b[39mself\u001b[39m\u001b[39m.\u001b[39mlocal_slots \u001b[39m-\u001b[39m \u001b[39mself\u001b[39m\u001b[39m.\u001b[39mnode\u001b[39m.\u001b[39moccupied \u001b[39m>\u001b[39m \u001b[39m0\u001b[39m:\n\u001b[1;32m---> 91\u001b[0m     \u001b[39mself\u001b[39;49m\u001b[39m.\u001b[39;49mschedule_graph_with_limit(\u001b[39mself\u001b[39;49m\u001b[39m.\u001b[39;49mlocal_slots \u001b[39m-\u001b[39;49m \u001b[39mself\u001b[39;49m\u001b[39m.\u001b[39;49mnode\u001b[39m.\u001b[39;49moccupied)\n\u001b[0;32m     92\u001b[0m     \u001b[39mself\u001b[39m\u001b[39m.\u001b[39mrearrange_graphs()\n\u001b[0;32m     93\u001b[0m \u001b[39m# self.logger.debug(\"after local scheduling: %s\", self.unscheduled_graphs)\u001b[39;00m\n",
      "File \u001b[1;32me:\\Projects\\stream-scheduling-simulator\\schedule\\flow_provisioner.py:158\u001b[0m, in \u001b[0;36mProvisionNode.schedule_graph_with_limit\u001b[1;34m(self, n_slot)\u001b[0m\n\u001b[0;32m    151\u001b[0m \u001b[39m# self.logger.info([[v.uuid for v in vs] for vs in topological_sorted_graphs])\u001b[39;00m\n\u001b[0;32m    152\u001b[0m \u001b[39m# REVIEW upstream_bd could be replaced with exact cross-cut bd\u001b[39;00m\n\u001b[0;32m    153\u001b[0m groups \u001b[39m=\u001b[39m [\n\u001b[0;32m    154\u001b[0m     [(v_count, v\u001b[39m.\u001b[39mupstream_bd) \u001b[39mfor\u001b[39;00m v_count, v \u001b[39min\u001b[39;00m \u001b[39menumerate\u001b[39m(vs)]\n\u001b[0;32m    155\u001b[0m     \u001b[39m+\u001b[39m [(\u001b[39mlen\u001b[39m(vs), vs[\u001b[39mlen\u001b[39m(vs) \u001b[39m-\u001b[39m \u001b[39m1\u001b[39m]\u001b[39m.\u001b[39mdownstream_bd)]\n\u001b[0;32m    156\u001b[0m     \u001b[39mfor\u001b[39;00m vs \u001b[39min\u001b[39;00m topological_sorted_graphs\n\u001b[0;32m    157\u001b[0m ]\n\u001b[1;32m--> 158\u001b[0m solution \u001b[39m=\u001b[39m grouped_exactly_one_full_binpack(n_slot, groups)\n\u001b[0;32m    159\u001b[0m \u001b[39mfor\u001b[39;00m g_idx, s_idx \u001b[39min\u001b[39;00m \u001b[39menumerate\u001b[39m(solution):\n\u001b[0;32m    160\u001b[0m     v_count \u001b[39m=\u001b[39m groups[g_idx][s_idx][\u001b[39m0\u001b[39m]\n",
      "File \u001b[1;32me:\\Projects\\stream-scheduling-simulator\\utils.py:125\u001b[0m, in \u001b[0;36mgrouped_exactly_one_full_binpack\u001b[1;34m(n_slot, groups)\u001b[0m\n\u001b[0;32m    123\u001b[0m                 choices[gid, capacity] \u001b[39m=\u001b[39m eid\n\u001b[0;32m    124\u001b[0m \u001b[39m# valid_idx = np.where(selected == len(groups))[0]\u001b[39;00m\n\u001b[1;32m--> 125\u001b[0m \u001b[39massert\u001b[39;00m selected[n_slot] \u001b[39m==\u001b[39m \u001b[39mlen\u001b[39m(groups)\n\u001b[0;32m    126\u001b[0m backtrace \u001b[39m=\u001b[39m n_slot\n\u001b[0;32m    127\u001b[0m \u001b[39m# backtrace = valid_idx[-1]\u001b[39;00m\n",
      "\u001b[1;31mAssertionError\u001b[0m: "
     ]
    }
   ],
   "source": [
    "scheduler = sch.FlowScheduler(sc)\n",
    "result = scheduler.schedule_multiple(graph_list)\n",
    "for r in result:\n",
    "    print(r)"
   ]
  },
  {
   "cell_type": "code",
   "execution_count": 6,
   "metadata": {},
   "outputs": [
    {
     "name": "stdout",
     "output_type": "stream",
     "text": [
      "4000\n",
      "2\n",
      "2\n",
      "2\n",
      "1\n",
      "2\n",
      "2\n",
      "2\n",
      "2\n",
      "3999\n",
      "4000\n",
      "{'f1-v2': 'vm1', 'f1-v5': 'vm3', 'f1-v1': 'vm1', 'f1-v4': 'vm2', 'f1-v3': 'vm2', 'f1-v6': 'cloud1'}\n"
     ]
    }
   ],
   "source": [
    "sc.topo.clear_occupied()\n",
    "scheduler = sch.FlowScheduler(sc)\n",
    "for r in scheduler.schedule_multiple([graph_list[0]]):\n",
    "    print(r)"
   ]
  }
 ],
 "metadata": {
  "kernelspec": {
   "display_name": "Python 3.8.0 64-bit",
   "language": "python",
   "name": "python3"
  },
  "language_info": {
   "codemirror_mode": {
    "name": "ipython",
    "version": 3
   },
   "file_extension": ".py",
   "mimetype": "text/x-python",
   "name": "python",
   "nbconvert_exporter": "python",
   "pygments_lexer": "ipython3",
   "version": "3.8.0"
  },
  "orig_nbformat": 4,
  "vscode": {
   "interpreter": {
    "hash": "4733263a37ff27c94edd76dc733492882f172c6edf10691f276f0cfd9a3089c0"
   }
  }
 },
 "nbformat": 4,
 "nbformat_minor": 2
}
