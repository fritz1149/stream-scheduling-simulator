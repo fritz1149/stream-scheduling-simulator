{
 "cells": [
  {
   "cell_type": "code",
   "execution_count": null,
   "source": [
    "%load_ext blackcellmagic"
   ],
   "outputs": [],
   "metadata": {}
  },
  {
   "cell_type": "code",
   "execution_count": null,
   "source": [
    "import topo as tg\r\n",
    "import importlib\r\n",
    "import uuid\r\n",
    "importlib.reload(tg)\r\n",
    "node_list = [\r\n",
    "    tg.Node(str(uuid.uuid4()), \"host\", 1000, 1, int(1e9), 0, 0, {}),\r\n",
    "    tg.Node(str(uuid.uuid4()), \"host\", 1000, 1, int(1e9), 0, 0, {}),\r\n",
    "    tg.Node(str(uuid.uuid4()), \"host\", 1000, 1, int(1e9), 0, 0, {}),\r\n",
    "    tg.Node(str(uuid.uuid4()), \"host\", 1000, 1, int(1e9), 0, 0, {}),\r\n",
    "    tg.Node(str(uuid.uuid4()), \"host\", 1000, 1, int(1e9), 0, 0, {}),\r\n",
    "    tg.Node(str(uuid.uuid4()), \"host\", 1000, 1, int(1e9), 0, 0, {})\r\n",
    "]\r\n",
    "t = tg.Topology()\r\n",
    "for n in node_list:\r\n",
    "    t.add_node(n)\r\n",
    "t.connect(node_list[0], node_list[1], uuid.uuid4(), int(1e7), 10)\r\n",
    "t.connect(node_list[1], node_list[2], uuid.uuid4(), int(1e7), 2)\r\n",
    "t.connect(node_list[1], node_list[3], uuid.uuid4(), int(1e7), 2)\r\n",
    "t.connect(node_list[1], node_list[4], uuid.uuid4(), int(1e7), 2)\r\n",
    "t.connect(node_list[4], node_list[5], uuid.uuid4(), int(1e7), 1)"
   ],
   "outputs": [],
   "metadata": {}
  },
  {
   "cell_type": "code",
   "execution_count": null,
   "source": [
    "import vivaldi.compute as vivaldi_compute\r\n",
    "import vivaldi.coordinate as vivaldi_coordinate\r\n",
    "importlib.reload(vivaldi_compute)\r\n",
    "importlib.reload(vivaldi_coordinate)\r\n",
    "lat_matrix = vivaldi_compute.get_latency_matrix(t, [n.uuid for n in t.get_nodes()])\r\n",
    "print(lat_matrix)\r\n",
    "coordinate_2d_class = vivaldi_coordinate.create_coordinate_class(2)\r\n",
    "matrix_error = vivaldi_compute.matrix_error(lat_matrix, {n.uuid: coordinate_2d_class(0,0) for n in node_list})\r\n",
    "print(matrix_error)"
   ],
   "outputs": [],
   "metadata": {}
  },
  {
   "cell_type": "code",
   "execution_count": null,
   "source": [
    "updated = vivaldi_compute.vivaldi_compute(t, {n.uuid: coordinate_2d_class(0,0) for n in node_list}, 0.01, 100)\r\n",
    "for k, v in updated.items():\r\n",
    "    print(k, v)"
   ],
   "outputs": [],
   "metadata": {}
  },
  {
   "cell_type": "code",
   "execution_count": null,
   "source": [
    "import matplotlib.pyplot as plt\r\n",
    "%matplotlib inline\r\n",
    "\r\n",
    "fig = plt.figure()\r\n",
    "ax = fig.add_subplot(111)\r\n",
    "ax.set_aspect(1)\r\n",
    "plt.scatter(*zip(*updated.values()))\r\n",
    "plt.grid(True)\r\n",
    "plt.show()"
   ],
   "outputs": [],
   "metadata": {}
  },
  {
   "cell_type": "code",
   "execution_count": null,
   "source": [
    "import numpy as np\r\n",
    "coords = list(updated.values())\r\n",
    "matrix = np.zeros((len(coords), len(coords)))\r\n",
    "for i in range(len(coords)):\r\n",
    "    for j in range(len(coords)):\r\n",
    "        matrix[i][j] = abs(coords[i] - coords[j])\r\n",
    "print(matrix)"
   ],
   "outputs": [],
   "metadata": {}
  },
  {
   "cell_type": "code",
   "execution_count": null,
   "source": [
    "import yaml\r\n",
    "import importlib\r\n",
    "import topo\r\n",
    "importlib.reload(topo)\r\n",
    "data = yaml.load(open('samples/a0.yaml', 'r').read(), Loader=yaml.Loader)\r\n",
    "sc = topo.Scenario.from_dict(data)"
   ],
   "outputs": [],
   "metadata": {}
  },
  {
   "cell_type": "code",
   "execution_count": null,
   "source": [
    "import networkx as nx\r\n",
    "nx.draw(sc.topo.g)"
   ],
   "outputs": [],
   "metadata": {}
  },
  {
   "cell_type": "code",
   "execution_count": null,
   "source": [
    "coordinate_3d_class = vivaldi_coordinate.create_coordinate_class(3)\r\n",
    "coordinate_4d_class = vivaldi_coordinate.create_coordinate_class(4)\r\n",
    "init_coords = {n.uuid: coordinate_3d_class(0,0,0) for n in sc.topo.get_hosts()}\r\n",
    "coords = vivaldi_compute.vivaldi_compute(sc.topo, init_coords, 1, 500)"
   ],
   "outputs": [],
   "metadata": {}
  },
  {
   "cell_type": "code",
   "execution_count": null,
   "source": [
    "from functools import partial\r\n",
    "\r\n",
    "cloud_node = sc.topo.get_node(list(\r\n",
    "    filter(\r\n",
    "        partial(sc.topo.label_filter, {\"machine\": \"rack\"}),\r\n",
    "        [h.uuid for h in sc.topo.get_hosts()],\r\n",
    "    )\r\n",
    ")[0])\r\n",
    "base_coord = coords[cloud_node.uuid]\r\n",
    "coords = {k: v - base_coord for k, v in coords.items()}\r\n",
    "for k, v in coords.items():\r\n",
    "    print(k, v)"
   ],
   "outputs": [],
   "metadata": {}
  },
  {
   "cell_type": "code",
   "execution_count": null,
   "source": [
    "from mpl_toolkits import mplot3d\r\n",
    "\r\n",
    "fig = plt.figure()\r\n",
    "ax = plt.axes(projection='3d')\r\n",
    "# ax.set_aspect(1)\r\n",
    "ax.scatter3D(*zip(*coords.values()))\r\n",
    "# plt.grid(True)\r\n",
    "plt.show()"
   ],
   "outputs": [],
   "metadata": {}
  }
 ],
 "metadata": {
  "orig_nbformat": 4,
  "language_info": {
   "name": "python",
   "version": "3.9.5",
   "mimetype": "text/x-python",
   "codemirror_mode": {
    "name": "ipython",
    "version": 3
   },
   "pygments_lexer": "ipython3",
   "nbconvert_exporter": "python",
   "file_extension": ".py"
  },
  "kernelspec": {
   "name": "python3",
   "display_name": "Python 3.9.5 64-bit"
  },
  "interpreter": {
   "hash": "add1a61ff37513b0d798fa9b3ddbf8ae573dfe73fde377561c8d981e86c7d8d4"
  }
 },
 "nbformat": 4,
 "nbformat_minor": 2
}