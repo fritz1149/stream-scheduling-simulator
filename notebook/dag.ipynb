{
 "cells": [
  {
   "cell_type": "code",
   "execution_count": null,
   "source": [
    "import sys\r\n",
    "\r\n",
    "sys.path.insert(0, \"..\")\r\n",
    "\r\n",
    "import graph\r\n",
    "import logging\r\n",
    "import math\r\n",
    "import networkx as nx\r\n",
    "import schedule as sch\r\n",
    "import random\r\n",
    "import topo\r\n",
    "import uuid\r\n",
    "import yaml\r\n",
    "\r\n",
    "\r\n",
    "def gen_uuid():\r\n",
    "    return str(uuid.uuid4())[:8]"
   ],
   "outputs": [],
   "metadata": {}
  },
  {
   "cell_type": "code",
   "execution_count": null,
   "source": [
    "sc = topo.Scenario.from_dict(\r\n",
    "    yaml.load(open(\"../samples/1e3h.yaml\", \"r\").read(), Loader=yaml.Loader)\r\n",
    ")\r\n",
    "gen_args_list = [\r\n",
    "    {\r\n",
    "        \"total_rank\": 7,\r\n",
    "        \"max_node_per_rank\": 3,\r\n",
    "        \"max_predecessors\": 2,\r\n",
    "        # \"mi_cb\": lambda: int(math.pow(10, (random.random() * 1) + 0)),\r\n",
    "        \"mi_cb\": lambda: 1,\r\n",
    "        \"memory_cb\": lambda: int(2e8),\r\n",
    "        \"unit_size_cb\": lambda: int(math.pow(10, (random.random() * 1) + 4)),\r\n",
    "        \"unit_rate_cb\": lambda: int(math.pow(10, (random.random() * 1) + 1)),\r\n",
    "        \"source_hosts\": [\"rasp1\", \"rasp2\", \"rasp3\"],\r\n",
    "        \"sink_hosts\": [\"cloud1\"],\r\n",
    "    }\r\n",
    "    for _ in range(1)\r\n",
    "]\r\n",
    "graph_list = [\r\n",
    "    graph.GraphGenerator(\"g\" + str(idx), **gen_args).gen_dag_graph()\r\n",
    "    for idx, gen_args in enumerate(gen_args_list)\r\n",
    "]\r\n",
    "pos = nx.spiral_layout(graph_list[0].g)\r\n",
    "nx.draw(graph_list[0].g, pos=pos)\r\n",
    "nx.draw_networkx_labels(\r\n",
    "    graph_list[0].g,\r\n",
    "    pos=pos,\r\n",
    "    labels={node: data['type'] for node, data in graph_list[0].g.nodes(data=True)}\r\n",
    ")"
   ],
   "outputs": [],
   "metadata": {}
  }
 ],
 "metadata": {
  "orig_nbformat": 4,
  "language_info": {
   "name": "python",
   "version": "3.9.5",
   "mimetype": "text/x-python",
   "codemirror_mode": {
    "name": "ipython",
    "version": 3
   },
   "pygments_lexer": "ipython3",
   "nbconvert_exporter": "python",
   "file_extension": ".py"
  },
  "kernelspec": {
   "name": "python3",
   "display_name": "Python 3.9.5 64-bit"
  },
  "interpreter": {
   "hash": "add1a61ff37513b0d798fa9b3ddbf8ae573dfe73fde377561c8d981e86c7d8d4"
  }
 },
 "nbformat": 4,
 "nbformat_minor": 2
}