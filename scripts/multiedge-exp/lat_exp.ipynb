{
 "cells": [
  {
   "cell_type": "code",
   "execution_count": 1,
   "metadata": {},
   "outputs": [],
   "source": [
    "import sys\n",
    "sys.path.insert(0, '../../')\n",
    "\n",
    "import graph\n",
    "import importlib\n",
    "import math\n",
    "import matplotlib\n",
    "import matplotlib.pyplot as plt\n",
    "import numpy as np\n",
    "import random\n",
    "import schedule as sch\n",
    "import topo\n",
    "import typing\n",
    "import utils\n",
    "import yaml\n",
    "from tqdm.notebook import tqdm\n",
    "\n",
    "matplotlib.rc('font', family='Times New Roman', size=16)"
   ]
  },
  {
   "cell_type": "code",
   "execution_count": 2,
   "metadata": {},
   "outputs": [],
   "source": [
    "def unit_size_cb(r: int):\n",
    "    return 10000 * math.pow(10, random.randint(0, 1))\n",
    "\n",
    "def gen_graphs(graph_count, source_selector_dict):\n",
    "    source_selector = graph.MultiDomainSourceSelector(source_selector_dict)\n",
    "    gen_args_list = [\n",
    "            {\n",
    "            \"total_rank\": random.randint(3, 7),\n",
    "            \"max_node_per_rank\": random.randint(1, 3),\n",
    "            \"max_predecessors\": random.randint(1, 2),\n",
    "            \"mi_cb\": lambda: 1,\n",
    "            \"memory_cb\": lambda: int(2e8),\n",
    "            \"unit_size_cb\": unit_size_cb,\n",
    "            \"unit_rate_cb\": lambda: random.randint(10, 20),\n",
    "            \"source_hosts\": source_selector,\n",
    "            \"sink_hosts\": [\"cloud1\"],\n",
    "            \"sources_num\": random.randint(1, 3),\n",
    "        }\n",
    "        for _ in range(graph_count)\n",
    "    ]\n",
    "    return [\n",
    "        graph.MultiSourceGraphGenerator(\"g\" + str(idx), **gen_args).gen_dag_graph()\n",
    "        for idx, gen_args in enumerate(gen_args_list)\n",
    "    ]"
   ]
  },
  {
   "cell_type": "code",
   "execution_count": 3,
   "metadata": {},
   "outputs": [],
   "source": [
    "from tqdm.notebook import trange\n",
    "\n",
    "def big_avg(array):\n",
    "    return sum(array) / len(array)\n",
    "\n",
    "def run(sc, labels, source_selector_dict):\n",
    "    flow_bp_data = [[] for _ in labels]\n",
    "    all_cloud_bp_data = [[] for _ in labels]\n",
    "    sbon_bp_data = [[] for _ in labels]\n",
    "    flow_event_data = [[] for _ in labels]\n",
    "    all_cloud_event_data = [[] for _ in labels]\n",
    "    sbon_event_data = [[] for _ in labels]\n",
    "    edge_random_event_data = [[] for _ in labels]\n",
    "    test_round = 100\n",
    "    for idx, graph_count in enumerate(labels):\n",
    "        print(graph_count)\n",
    "        for _ in trange(test_round, desc=\"running with {} graphs\".format(graph_count)):\n",
    "            graph_list = gen_graphs(graph_count, source_selector_dict)\n",
    "            sc.topo.clear_occupied()\n",
    "            flow_scheduler = sch.MultiEdgeFlowScheduler(sc)\n",
    "            flow_calculator = sch.LatencyCalculator(sc.topo)\n",
    "            flow_result_list = flow_scheduler.schedule_multiple(graph_list)\n",
    "            for g, result in zip(graph_list, flow_result_list):\n",
    "                assert result is not None\n",
    "                flow_calculator.add_scheduled_graph(g, result)\n",
    "            flow_latency, flow_bp, _ = flow_calculator.compute_latency()\n",
    "            for g in graph_list:\n",
    "                flow_event_data[idx].append(flow_latency[g.uuid] / g.number_of_vertices())\n",
    "                flow_bp_data[idx].append(flow_bp[g.uuid])\n",
    "            # flow_event_data[idx].extend()\n",
    "\n",
    "            # sc.topo.clear_occupied()\n",
    "            # sbon_scheduler = sch.SBONScheduler(sc)\n",
    "            # sbon_calculator = sch.LatencyCalculator(sc.topo)\n",
    "            # sbon_result_list = sbon_scheduler.schedule_multiple(graph_list)\n",
    "            # for g, result in zip(graph_list, sbon_result_list):\n",
    "            #     assert result is not None\n",
    "            #     sbon_calculator.add_scheduled_graph(g, result)\n",
    "            # sbon_latency, sbon_bp = sbon_calculator.compute_latency()\n",
    "            # for g in graph_list:\n",
    "            #     sbon_event_data[idx].append(sbon_latency[g.uuid] / g.number_of_vertices())\n",
    "            #     sbon_bp_data[idx].append(sbon_bp[g.uuid])\n",
    "\n",
    "            # sc.topo.clear_occupied()\n",
    "            # all_cloud_scheduler = sch.AllCloudScheduler(sc)\n",
    "            # all_cloud_calculator = sch.LatencyCalculator(sc.topo)\n",
    "            # all_cloud_result_list = all_cloud_scheduler.schedule_multiple(graph_list)\n",
    "            # for g, result in zip(graph_list, all_cloud_result_list):\n",
    "            #     assert result is not None\n",
    "            #     all_cloud_calculator.add_scheduled_graph(g, result)\n",
    "            # all_cloud_latency, all_cloud_bp = all_cloud_calculator.compute_latency()\n",
    "            # for g in graph_list:\n",
    "            #     all_cloud_event_data[idx].append(all_cloud_latency[g.uuid] / g.number_of_vertices())\n",
    "            #     all_cloud_bp_data[idx].append(all_cloud_bp[g.uuid])\n",
    "            # all_cloud_event_data[idx].extend(list(all_cloud_latency.values()))\n",
    "\n",
    "            # sc.topo.clear_occupied()\n",
    "            # edge_random_scheduler = sch.EdgeRandomScheduler(sc)\n",
    "            # edge_random_calculator = sch.LatencyCalculator(sc.topo)\n",
    "            # edge_random_result_list = edge_random_scheduler.schedule_multiple(graph_list)\n",
    "            # for g, result in zip(graph_list, edge_random_result_list):\n",
    "            #     assert result is not None\n",
    "            #     edge_random_calculator.add_scheduled_graph(g, result)\n",
    "            # edge_random_latency, edge_random_bp = edge_random_calculator.compute_latency()\n",
    "            # edge_random_event_data[idx].extend(list(edge_random_latency.values()))\n",
    "\n",
    "            # for k in all_cloud_latency.keys():\n",
    "                # flow_event_data[idx].append(flow_latency[k] / all_cloud_latency[k])\n",
    "                # edge_random_event_data[idx].append(edge_random_latency[k] / flow_latency[k])\n",
    "    flow_event_data = [big_avg(i) for i in flow_event_data]\n",
    "    flow_bp_data = [big_avg(i) for i in flow_bp_data]\n",
    "    # all_cloud_event_data = [big_avg(i) for i in all_cloud_event_data]\n",
    "    # all_cloud_bp_data = [big_avg(i) for i in all_cloud_bp_data]\n",
    "    # sbon_event_data = [big_avg(i) for i in sbon_event_data]\n",
    "    # sbon_bp_data = [big_avg(i) for i in sbon_bp_data]\n",
    "    # return flow_event_data, flow_bp_data, all_cloud_event_data, all_cloud_bp_data, sbon_event_data, sbon_bp_data\n",
    "    return flow_event_data, flow_bp_data\n",
    "    # ax_lat.plot(flow_event_data)\n",
    "    # ax_lat.plot(all_cloud_event_data)\n",
    "    # ax_bp.plot(flow_bp_data)\n",
    "    # ax_bp.plot(all_cloud_bp_data)\n",
    "    # plt.eventplot(flow_event_data, lineoffsets=[i-width for i in range(len(labels))], linelengths=width, linewidths=0.5, colors=\"C0\", orientation=\"vertical\")\n",
    "    # plt.eventplot(edge_random_event_data, lineoffsets=[i for i in range(len(labels))], linelengths=width, linewidths=0.5, colors=\"C1\", orientation=\"vertical\")\n",
    "    # plt.eventplot(all_cloud_event_data, lineoffsets=[i+width for i in range(len(labels))], linelengths=width, linewidths=0.5, colors=\"C2\", orientation=\"vertical\")\n",
    "    # plt.violinplot(flow_event_data, vert=True, positions=[i-width for i in range(len(labels))], widths=width)\n",
    "    # plt.violinplot(edge_random_event_data, vert=True, positions=[i for i in range(len(labels))], widths=width)\n",
    "    # plt.violinplot(all_cloud_event_data, vert=True, positions=[i+width for i in range(len(labels))], widths=width)"
   ]
  },
  {
   "cell_type": "code",
   "execution_count": 7,
   "metadata": {},
   "outputs": [
    {
     "name": "stdout",
     "output_type": "stream",
     "text": [
      "4\n"
     ]
    },
    {
     "data": {
      "application/vnd.jupyter.widget-view+json": {
       "model_id": "1058093257954a8b9276d6652bbc50af",
       "version_major": 2,
       "version_minor": 0
      },
      "text/plain": [
       "running with 4 graphs:   0%|          | 0/100 [00:00<?, ?it/s]"
      ]
     },
     "metadata": {},
     "output_type": "display_data"
    },
    {
     "name": "stdout",
     "output_type": "stream",
     "text": [
      "8\n"
     ]
    },
    {
     "data": {
      "application/vnd.jupyter.widget-view+json": {
       "model_id": "5643d4d2da7941829b9c07d9fc2ec44b",
       "version_major": 2,
       "version_minor": 0
      },
      "text/plain": [
       "running with 8 graphs:   0%|          | 0/100 [00:00<?, ?it/s]"
      ]
     },
     "metadata": {},
     "output_type": "display_data"
    },
    {
     "name": "stdout",
     "output_type": "stream",
     "text": [
      "12\n"
     ]
    },
    {
     "data": {
      "application/vnd.jupyter.widget-view+json": {
       "model_id": "aa7ee9eeabe44b2b9eca746ffd94da48",
       "version_major": 2,
       "version_minor": 0
      },
      "text/plain": [
       "running with 12 graphs:   0%|          | 0/100 [00:00<?, ?it/s]"
      ]
     },
     "metadata": {},
     "output_type": "display_data"
    },
    {
     "name": "stdout",
     "output_type": "stream",
     "text": [
      "16\n"
     ]
    },
    {
     "data": {
      "application/vnd.jupyter.widget-view+json": {
       "model_id": "55094e34242d4421b68b49c8262c5b61",
       "version_major": 2,
       "version_minor": 0
      },
      "text/plain": [
       "running with 16 graphs:   0%|          | 0/100 [00:00<?, ?it/s]"
      ]
     },
     "metadata": {},
     "output_type": "display_data"
    },
    {
     "name": "stdout",
     "output_type": "stream",
     "text": [
      "20\n"
     ]
    },
    {
     "data": {
      "application/vnd.jupyter.widget-view+json": {
       "model_id": "acbf106f5ff34e81886e75ca7ba09d72",
       "version_major": 2,
       "version_minor": 0
      },
      "text/plain": [
       "running with 20 graphs:   0%|          | 0/100 [00:00<?, ?it/s]"
      ]
     },
     "metadata": {},
     "output_type": "display_data"
    },
    {
     "name": "stdout",
     "output_type": "stream",
     "text": [
      "[5.032409570517775, 6.188456727393897, 7.294165268550158, 8.447114757515429, 9.617828394874445]\n"
     ]
    }
   ],
   "source": [
    "sc = topo.Scenario.from_dict(yaml.load(open(\"../../samples/1e6h.yaml\", \"r\").read(), Loader=yaml.Loader))\n",
    "f_lat1, f_bp1 = run(sc, [4, 8, 12, 16, 20], \n",
    "                    {\"edge0\": {'e0rasp1': 10, 'e0rasp2': 10, 'e0rasp3': 10},\n",
    "                    \"edge1\": {'e1rasp1': 10, 'e1rasp2': 10, 'e1rasp3': 10}})\n",
    "\n",
    "# sc = topo.Scenario.from_dict(yaml.load(open(\"../../samples/1e18h.yaml\", \"r\").read(), Loader=yaml.Loader))\n",
    "# edge0 = {\"e0rasp\"+str(i): 8 for i in range(1, 7)}\n",
    "# edge1 = {\"e1rasp\"+str(i): 8 for i in range(1, 4)}\n",
    "# edge1.update({\"e1vm\"+str(i): 16 for i in range(1, 4)})\n",
    "# edge2 = {\"e2rasp\"+str(i): 8 for i in range(1, 5)}\n",
    "# edge2.update({\"e2vm\"+str(i): 16 for i in range(1, 3)})\n",
    "# source_dict = {\"edge0\": edge0, \"edge1\": edge1, \"edge2\": edge2}\n",
    "# f_lat2, f_bp2 = run(sc, [40, 60, 80, 100, 120], source_dict)\n",
    "\n",
    "print(f_lat1)\n",
    "# print(f_lat2)"
   ]
  }
 ],
 "metadata": {
  "kernelspec": {
   "display_name": "Python 3.8.10 ('stream-scheduling-simulator': venv)",
   "language": "python",
   "name": "python3"
  },
  "language_info": {
   "codemirror_mode": {
    "name": "ipython",
    "version": 3
   },
   "file_extension": ".py",
   "mimetype": "text/x-python",
   "name": "python",
   "nbconvert_exporter": "python",
   "pygments_lexer": "ipython3",
   "version": "3.8.10"
  },
  "orig_nbformat": 4,
  "vscode": {
   "interpreter": {
    "hash": "673be82b3945be666da6bf363071c2e2d267065e5c5e23d9e713784609e0345a"
   }
  }
 },
 "nbformat": 4,
 "nbformat_minor": 2
}
