{
 "cells": [
  {
   "cell_type": "code",
   "execution_count": null,
   "source": [
    "import sys\r\n",
    "sys.path.insert(0, \"..\")"
   ],
   "outputs": [],
   "metadata": {}
  },
  {
   "cell_type": "code",
   "execution_count": null,
   "source": [
    "import algo\r\n",
    "import graph\r\n",
    "import typing\r\n",
    "from algo.min_cut import FlowGraph, FlowGraphEdge, FlowGraphNode, MAX_EDGE_CAPACITY"
   ],
   "outputs": [],
   "metadata": {}
  },
  {
   "cell_type": "code",
   "execution_count": null,
   "source": [
    "g = graph.ExecutionGraph.load_all(open('dump.yaml'))[0]"
   ],
   "outputs": [],
   "metadata": {}
  },
  {
   "cell_type": "code",
   "execution_count": null,
   "source": [
    "nodes: typing.Dict[str, FlowGraphNode] = {\r\n",
    "    v.uuid: FlowGraphNode([]) for v in g.get_vertices()\r\n",
    "}\r\n",
    "edges: typing.List[FlowGraphEdge] = []\r\n",
    "index = 0\r\n",
    "for u, v, d in g.get_edges():\r\n",
    "    bd = d[\"unit_size\"] * d[\"per_second\"]\r\n",
    "    edges.append(FlowGraphEdge(u, v, bd, 0))\r\n",
    "    nodes[u].out_edges.append(index)\r\n",
    "    index += 1\r\n",
    "    edges.append(FlowGraphEdge(v, u, 0, 0))\r\n",
    "    nodes[v].out_edges.append(index)\r\n",
    "    index += 1\r\n",
    "\r\n",
    "fake_source = \"fake_source\"\r\n",
    "fake_sink = \"fake_sink\"\r\n",
    "nodes[fake_source] = FlowGraphNode([])\r\n",
    "nodes[fake_sink] = FlowGraphNode([])\r\n",
    "for s in g.get_in_vertices():\r\n",
    "    edges.append(FlowGraphEdge(fake_source, s.uuid, MAX_EDGE_CAPACITY, 0))\r\n",
    "    nodes[fake_source].out_edges.append(index)\r\n",
    "    index += 1\r\n",
    "    edges.append(FlowGraphEdge(s.uuid, fake_source, 0, 0))\r\n",
    "    nodes[s.uuid].out_edges.append(index)\r\n",
    "    index += 1\r\n",
    "for s in g.get_out_vertices():\r\n",
    "    edges.append(FlowGraphEdge(s.uuid, fake_sink, MAX_EDGE_CAPACITY, 0))\r\n",
    "    nodes[s.uuid].out_edges.append(index)\r\n",
    "    index += 1\r\n",
    "    edges.append(FlowGraphEdge(fake_sink, s.uuid, 0, 0))\r\n",
    "    nodes[fake_sink].out_edges.append(index)\r\n",
    "    index += 1\r\n",
    "\r\n",
    "flow_graph = FlowGraph(nodes, edges)"
   ],
   "outputs": [],
   "metadata": {}
  },
  {
   "cell_type": "code",
   "execution_count": null,
   "source": [
    "len(g.g.edges()), len(g.get_sinks()), len(edges)"
   ],
   "outputs": [],
   "metadata": {}
  },
  {
   "cell_type": "code",
   "execution_count": null,
   "source": [
    "for u, v in g.g.edges():\r\n",
    "    print('{} ---> {}'.format(u, v))"
   ],
   "outputs": [],
   "metadata": {}
  },
  {
   "cell_type": "code",
   "execution_count": null,
   "source": [
    "e_idxes = flow_graph.shortest_path(\"fake_source\", \"fake_sink\")\r\n",
    "print(e_idxes)\r\n",
    "for idx in e_idxes:\r\n",
    "    print(edges[idx].from_node, edges[idx].to_node, edges[idx].cap, edges[idx].flow)\r\n",
    "min_incr = min([edges[idx].cap - edges[idx].flow for idx in e_idxes])\r\n",
    "print(min_incr)\r\n",
    "for idx in e_idxes:\r\n",
    "    e = edges[idx]\r\n",
    "    oe = edges[idx ^ 1]\r\n",
    "    e.flow += min_incr\r\n",
    "    oe.flow -= min_incr\r\n",
    "    if e.cap == e.flow:\r\n",
    "        e.disabled = True"
   ],
   "outputs": [],
   "metadata": {}
  },
  {
   "cell_type": "code",
   "execution_count": null,
   "source": [
    "for e in edges:\r\n",
    "    if e.disabled:\r\n",
    "        print(e.from_node, e.to_node, e.cap, e.flow)"
   ],
   "outputs": [],
   "metadata": {}
  },
  {
   "cell_type": "code",
   "execution_count": null,
   "source": [
    "flow_graph.reachable(\"fake_source\")"
   ],
   "outputs": [],
   "metadata": {}
  }
 ],
 "metadata": {
  "orig_nbformat": 4,
  "language_info": {
   "name": "python",
   "version": "3.9.5",
   "mimetype": "text/x-python",
   "codemirror_mode": {
    "name": "ipython",
    "version": 3
   },
   "pygments_lexer": "ipython3",
   "nbconvert_exporter": "python",
   "file_extension": ".py"
  },
  "kernelspec": {
   "name": "python3",
   "display_name": "Python 3.9.5 64-bit"
  },
  "interpreter": {
   "hash": "add1a61ff37513b0d798fa9b3ddbf8ae573dfe73fde377561c8d981e86c7d8d4"
  }
 },
 "nbformat": 4,
 "nbformat_minor": 2
}