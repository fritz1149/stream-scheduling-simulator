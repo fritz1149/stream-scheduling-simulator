{
 "cells": [
  {
   "cell_type": "code",
   "execution_count": null,
   "metadata": {},
   "outputs": [],
   "source": [
    "import sys\n",
    "sys.path.insert(0, '../../')\n",
    "\n",
    "import graph\n",
    "import importlib\n",
    "import math\n",
    "import matplotlib\n",
    "import matplotlib.pyplot as plt\n",
    "import numpy as np\n",
    "import random\n",
    "import schedule as sch\n",
    "import topo\n",
    "import typing\n",
    "import utils\n",
    "import yaml\n",
    "import time\n",
    "from tqdm.notebook import tqdm\n",
    "\n",
    "matplotlib.rc('font', family='Times New Roman', size=18)"
   ]
  },
  {
   "cell_type": "code",
   "execution_count": null,
   "metadata": {},
   "outputs": [],
   "source": [
    "def unit_size_cb(r: int):\n",
    "    return 10000 * math.pow(10, random.randint(0, 1))\n",
    "\n",
    "def timer(f):\n",
    "    t0 = time.time()\n",
    "    f()\n",
    "    t1 = time.time()\n",
    "    return t1 - t0\n",
    "\n",
    "def gen_graphs(graph_count, source_selector_dict, max_source_num):\n",
    "    source_selector = graph.MultiDomainSourceSelector(source_selector_dict)\n",
    "    global source_quota\n",
    "    source_quota = max_source_num\n",
    "    def source_num(i):\n",
    "        global source_quota\n",
    "        assert graph_count - i <= source_quota\n",
    "        delta = source_quota - (graph_count - i)\n",
    "        ret = 1 + random.randint(0, min(delta, 2))\n",
    "        source_quota -= ret\n",
    "        return ret\n",
    "    gen_args_list = [\n",
    "            {\n",
    "            \"total_rank\": random.randint(3, 7),\n",
    "            \"max_node_per_rank\": random.randint(1, 3),\n",
    "            \"max_predecessors\": random.randint(1, 2),\n",
    "            \"mi_cb\": lambda: 1,\n",
    "            \"memory_cb\": lambda: int(2e8),\n",
    "            \"unit_size_cb\": unit_size_cb,\n",
    "            \"unit_rate_cb\": lambda: random.randint(10, 20),\n",
    "            \"source_hosts\": source_selector,\n",
    "            \"sink_hosts\": [\"cloud1\"],\n",
    "            \"sources_num\": source_num(i),\n",
    "        }\n",
    "        for i in range(graph_count)\n",
    "    ]\n",
    "    return [\n",
    "        graph.MultiSourceGraphGenerator(\"g\" + str(idx), **gen_args).gen_dag_graph()\n",
    "        for idx, gen_args in enumerate(gen_args_list)\n",
    "    ]"
   ]
  },
  {
   "cell_type": "code",
   "execution_count": null,
   "metadata": {},
   "outputs": [],
   "source": [
    "def big_avg(array):\n",
    "    return sum(array) / len(array)\n",
    "\n",
    "from tqdm.notebook import trange\n",
    "def run(sc, labels, source_selector_dict, max_source_num):\n",
    "    flow_time = [[] for _ in labels]\n",
    "    sbon_time = [[] for _ in labels]\n",
    "    test_round = 100\n",
    "    for idx, graph_count in enumerate(labels):\n",
    "        print(graph_count)\n",
    "        for _ in trange(test_round, desc=\"running with {} graphs\".format(graph_count)):\n",
    "            graph_list = gen_graphs(graph_count, source_selector_dict, max_source_num)\n",
    "            \n",
    "            sc.topo.clear_occupied()\n",
    "            flow_scheduler = sch.MultiEdgeFlowScheduler(sc)\n",
    "            flow_time_1_round = timer(lambda: flow_scheduler.schedule_multiple(graph_list))\n",
    "            flow_time[idx].append(flow_time_1_round)\n",
    "\n",
    "            sc.topo.clear_occupied()\n",
    "            sbon_scheduler = sch.MultiEdgeSbonScheduler(sc)\n",
    "            sbon_time_1_round = timer(lambda: sbon_scheduler.schedule_multiple(graph_list))\n",
    "            sbon_time[idx].append(sbon_time_1_round)\n",
    "            \n",
    "                \n",
    "    flow_time = [big_avg(i) for i in flow_time]\n",
    "    sbon_time = [big_avg(i) for i in sbon_time]\n",
    "    # return flow_event_data, flow_bp_data, all_cloud_event_data, all_cloud_bp_data, sbon_event_data, sbon_bp_data\n",
    "    return flow_time, sbon_time"
   ]
  },
  {
   "cell_type": "code",
   "execution_count": null,
   "metadata": {},
   "outputs": [],
   "source": [
    "sc = topo.Scenario.from_dict(yaml.load(open(\"../../samples/1e6h.yaml\", \"r\").read(), Loader=yaml.Loader))\n",
    "f_time1, sbon_time1 = run(sc, [4, 8, 12, 16, 20], \n",
    "        {\"edge0\": {'e0rasp1': 10, 'e0rasp2': 10, 'e0rasp3': 10},\n",
    "        \"edge1\": {'e1rasp1': 10, 'e1rasp2': 10, 'e1rasp3': 10}}, 45)\n",
    "print(f_time1)\n",
    "print(sbon_time1)"
   ]
  },
  {
   "cell_type": "code",
   "execution_count": null,
   "metadata": {},
   "outputs": [],
   "source": [
    "sc = topo.Scenario.from_dict(yaml.load(open(\"../../samples/1e18h.yaml\", \"r\").read(), Loader=yaml.Loader))\n",
    "edge0 = {\"e0rasp\"+str(i): 12 for i in range(1, 7)}\n",
    "edge1 = {\"e1rasp\"+str(i): 12 for i in range(1, 4)}\n",
    "edge1.update({\"e1vm\"+str(i): 24 for i in range(1, 4)})\n",
    "edge2 = {\"e2rasp\"+str(i): 12 for i in range(1, 5)}\n",
    "edge2.update({\"e2vm\"+str(i): 24 for i in range(1, 3)})\n",
    "source_dict = {\"edge0\": edge0, \"edge1\": edge1, \"edge2\": edge2}\n",
    "f_time2, sbon_time2 = run(sc, [40, 60, 80, 100, 120], source_dict, 200)\n",
    "print(f_time2)\n",
    "print(sbon_time2)"
   ]
  }
 ],
 "metadata": {
  "kernelspec": {
   "display_name": "Python 3.8.10 ('stream-scheduling-simulator': venv)",
   "language": "python",
   "name": "python3"
  },
  "language_info": {
   "name": "python",
   "version": "3.8.10"
  },
  "orig_nbformat": 4,
  "vscode": {
   "interpreter": {
    "hash": "673be82b3945be666da6bf363071c2e2d267065e5c5e23d9e713784609e0345a"
   }
  }
 },
 "nbformat": 4,
 "nbformat_minor": 2
}
