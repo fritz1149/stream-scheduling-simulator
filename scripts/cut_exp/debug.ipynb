{
 "cells": [
  {
   "cell_type": "code",
   "execution_count": 1,
   "metadata": {},
   "outputs": [],
   "source": [
    "import sys\n",
    "sys.path.insert(0, '../../')"
   ]
  },
  {
   "cell_type": "code",
   "execution_count": 2,
   "metadata": {},
   "outputs": [],
   "source": [
    "import bd_calc\n",
    "import graph\n",
    "import importlib\n",
    "import math\n",
    "import matplotlib\n",
    "import matplotlib.pyplot as plt\n",
    "import numpy as np\n",
    "import random\n",
    "import topo\n",
    "import typing\n",
    "import utils\n",
    "import yaml\n",
    "\n",
    "matplotlib.rc('font', family='Times New Roman', size=18)"
   ]
  },
  {
   "cell_type": "code",
   "execution_count": 3,
   "metadata": {},
   "outputs": [],
   "source": [
    "import all_cloud_cut\n",
    "import best_cut\n",
    "import flow_cut\n",
    "import greedy_cut\n",
    "\n",
    "def unit_size_cb(r: int):\n",
    "    return 10000 * math.pow(10, random.randint(0, 1))"
   ]
  },
  {
   "cell_type": "code",
   "execution_count": 4,
   "metadata": {},
   "outputs": [],
   "source": [
    "topo_file = \"../../samples/1e3h.yaml\"\n",
    "source_selector_dict = {'rasp1': 8, 'rasp2': 8, 'rasp3': 8}\n",
    "\n",
    "sc = topo.Scenario.from_dict(\n",
    "    yaml.load(open(topo_file, \"r\").read(), Loader=yaml.Loader)\n",
    ")"
   ]
  },
  {
   "cell_type": "code",
   "execution_count": 6,
   "metadata": {},
   "outputs": [
    {
     "name": "stdout",
     "output_type": "stream",
     "text": [
      "9160000.0 8460000.0\n",
      "107\n"
     ]
    }
   ],
   "source": [
    "cnt = 0\n",
    "while cnt < 1000:\n",
    "    source_selector = graph.SourceSelector(source_selector_dict)\n",
    "    gen_args = [\n",
    "        {\n",
    "            \"total_rank\": random.randint(3, 7),\n",
    "            \"max_node_per_rank\": random.randint(1, 2),\n",
    "            \"max_predecessors\": random.randint(1, 2),\n",
    "            \"mi_cb\": lambda: 1,\n",
    "            \"memory_cb\": lambda: int(2e8),\n",
    "            \"unit_size_cb\": unit_size_cb,\n",
    "            \"unit_rate_cb\": lambda: random.randint(10, 20),\n",
    "            \"source_hosts\": source_selector,\n",
    "            \"sink_hosts\": [\"cloud1\"],\n",
    "        }\n",
    "        for _ in range(4)\n",
    "    ]\n",
    "    gs = [graph.GraphGenerator(\"g\"+str(idx), **args).gen_dag_graph() for idx, args in enumerate(gen_args)]\n",
    "    fr = flow_cut.flow_cut(sc, gs)\n",
    "    g2r = greedy_cut.greedy_cut2(sc, gs)\n",
    "    br = best_cut.best_cut(sc, gs)\n",
    "    fbd = sum([bd_calc.bd_calc(g, r[0], r[1]) for g, r in zip(gs, fr)])\n",
    "    gbd = sum([bd_calc.bd_calc(g, r[0], r[1]) for g, r in zip(gs, g2r)])\n",
    "    bbd = sum([bd_calc.bd_calc(g, r[0], r[1]) for g, r in zip(gs, br)])\n",
    "    # gbd = bd_calc.bd_calc(g, g2r[0], g2r[1])\n",
    "    if fbd < bbd:\n",
    "        print(\"better than best\")\n",
    "        print(fbd, bbd)\n",
    "        print(cnt)\n",
    "        break\n",
    "    if gbd < fbd:\n",
    "        print(fbd, gbd)\n",
    "        print(cnt)\n",
    "        break\n",
    "    cnt += 1\n",
    "    # greedy2_result = greedy_cut.greedy_cut2(sc, [g])[0]\n",
    "    # greedy2_bd = bd_calc.bd_calc(g, greedy2_result[0], greedy2_result[1])\n",
    "    # all_cloud_result = all_cloud_cut.all_cloud_cut(sc, [g])[0]\n",
    "    # all_cloud_bd = bd_calc.bd_calc(g, all_cloud_result[0], all_cloud_result[1])\n",
    "    # if greedy2_bd > all_cloud_bd:\n",
    "    #     for u, v, d in g.get_edges():\n",
    "    #         print('{} -- {} --> {}'.format(u, int(d['unit_size']*d['per_second']/1e3), v))\n",
    "    #     print(greedy2_bd / 1e3)\n",
    "    #     print(all_cloud_bd / 1e3)\n",
    "    #     print(greedy2_result)\n",
    "    #     print(all_cloud_result)\n",
    "    #     break"
   ]
  },
  {
   "cell_type": "code",
   "execution_count": 6,
   "metadata": {},
   "outputs": [],
   "source": [
    "with open(\"debug/g4.yaml\") as f:\n",
    "    gs = graph.ExecutionGraph.load_all(f)"
   ]
  },
  {
   "cell_type": "code",
   "execution_count": 7,
   "metadata": {},
   "outputs": [
    {
     "name": "stdout",
     "output_type": "stream",
     "text": [
      "g2-v0 -- 200 --> g2-v1\n",
      "g2-v0 -- 1100 --> g2-v5\n",
      "g2-v1 -- 150 --> g2-v2\n",
      "g2-v2 -- 1600 --> g2-v3\n",
      "g2-v3 -- 140 --> g2-v4\n",
      "g2-v3 -- 1800 --> g2-v6\n",
      "g2-v4 -- 1300 --> g2-v5\n",
      "g2-v5 -- 120 --> g2-v6\n"
     ]
    }
   ],
   "source": [
    "for u, v, d in gs[2].get_edges():\n",
    "    print(\"{} -- {} --> {}\".format(u, int(d['unit_size']*d['per_second']/1e3), v))"
   ]
  },
  {
   "cell_type": "code",
   "execution_count": 8,
   "metadata": {},
   "outputs": [],
   "source": [
    "# sc = topo.Scenario.from_dict(\n",
    "#     yaml.load(open(\"../../samples/1e12h.yaml\", \"r\").read(), Loader=yaml.Loader)\n",
    "# )\n",
    "# fr = flow_cut.flow_cut(sc, [g])"
   ]
  },
  {
   "cell_type": "code",
   "execution_count": 9,
   "metadata": {},
   "outputs": [
    {
     "name": "stdout",
     "output_type": "stream",
     "text": [
      "fsource->g2-v0,g2-v0->g2-v5,g2-v5->g2-v6,g2-v6->fsink\n",
      "fsource->g2-v0,g2-v0->g2-v1,g2-v1->g2-v2,g2-v2->g2-v3,g2-v3->g2-v6,g2-v6->fsink\n",
      "fsource->g2-v0,g2-v0->g2-v5,g2-v5->g2-v4,g2-v4->g2-v3,g2-v3->g2-v6,g2-v6->fsink\n",
      "\n",
      "{'g2-v4', 'g2-v0', 'g2-v5', 'g2-v1'} {'g2-v2', 'g2-v3', 'g2-v6'}\n",
      "fsource->g2-v4,g2-v4->g2-v5,g2-v5->fsink\n",
      "fsource->g2-v0,g2-v0->g2-v1,g2-v1->fsink\n",
      "fsource->g2-v0,g2-v0->g2-v5,g2-v5->fsink\n",
      "\n",
      "{'g2-v0', 'g2-v4'} {'g2-v2', 'g2-v3', 'g2-v1', 'g2-v5', 'g2-v6'}\n",
      "fsource->g2-v0,g2-v0->fsink\n",
      "fsource->g2-v4,g2-v4->fsink\n",
      "\n",
      "set() {'g2-v1', 'g2-v5', 'g2-v4', 'g2-v3', 'g2-v2', 'g2-v0', 'g2-v6'}\n",
      "(set(), {'g2-v1', 'g2-v5', 'g2-v4', 'g2-v3', 'g2-v2', 'g2-v0', 'g2-v6'})\n"
     ]
    }
   ],
   "source": [
    "fr = flow_cut.flow_cut(sc, [gs[2]])\n",
    "for r in fr:\n",
    "    print(r)"
   ]
  },
  {
   "cell_type": "code",
   "execution_count": 10,
   "metadata": {},
   "outputs": [],
   "source": [
    "# with open(\"debug/g4.yaml\", \"w\") as f:\n",
    "#     graph.ExecutionGraph.save_all(gs, f)"
   ]
  },
  {
   "cell_type": "code",
   "execution_count": 9,
   "metadata": {},
   "outputs": [
    {
     "name": "stdout",
     "output_type": "stream",
     "text": [
      "({'g0-v2', 'g0-v0', 'g0-v1'}, {'g0-v3'})\n",
      "({'g1-v4', 'g1-v3', 'g1-v0', 'g1-v2', 'g1-v1'}, {'g1-v6', 'g1-v5'})\n",
      "({'g2-v1', 'g2-v0'}, {'g2-v2'})\n",
      "({'g3-v4', 'g3-v1', 'g3-v0', 'g3-v5', 'g3-v2'}, {'g3-v3'})\n",
      "...\n",
      "({'g0-v0', 'g0-v1'}, {'g0-v2', 'g0-v3'})\n",
      "({'g1-v4', 'g1-v0', 'g1-v2', 'g1-v1'}, {'g1-v6', 'g1-v5', 'g1-v3'})\n",
      "({'g2-v0', 'g2-v1'}, {'g2-v2'})\n",
      "({'g3-v1', 'g3-v4', 'g3-v0', 'g3-v2'}, {'g3-v5', 'g3-v3'})\n"
     ]
    }
   ],
   "source": [
    "for r in fr:\n",
    "    print(r)\n",
    "print('...')\n",
    "for r in br:\n",
    "    print(r)"
   ]
  },
  {
   "cell_type": "code",
   "execution_count": 10,
   "metadata": {},
   "outputs": [
    {
     "name": "stdout",
     "output_type": "stream",
     "text": [
      "g0-v0 -- 180 --> g0-v1\n",
      "g0-v0 -- 1600 --> g0-v2\n",
      "g0-v1 -- 110 --> g0-v3\n",
      "---\n",
      "g1-v0 -- 160 --> g1-v1\n",
      "g1-v0 -- 1900 --> g1-v3\n",
      "g1-v1 -- 190 --> g1-v2\n",
      "g1-v1 -- 1400 --> g1-v4\n",
      "g1-v2 -- 130 --> g1-v4\n",
      "g1-v4 -- 130 --> g1-v5\n",
      "g1-v5 -- 1100 --> g1-v6\n",
      "---\n",
      "g2-v0 -- 1600 --> g2-v1\n",
      "g2-v0 -- 130 --> g2-v2\n",
      "g2-v1 -- 1100 --> g2-v2\n",
      "---\n",
      "g3-v0 -- 1500 --> g3-v1\n",
      "g3-v1 -- 1100 --> g3-v2\n",
      "g3-v1 -- 110 --> g3-v3\n",
      "g3-v1 -- 190 --> g3-v4\n",
      "g3-v1 -- 100 --> g3-v5\n",
      "g3-v2 -- 180 --> g3-v4\n",
      "g3-v4 -- 120 --> g3-v5\n",
      "---\n"
     ]
    }
   ],
   "source": [
    "for g in gs:\n",
    "    for u, v, d in g.get_edges():\n",
    "        print(\"{} -- {} --> {}\".format(u, int(d['unit_size']*d['per_second']/1e3), v))\n",
    "    print('---')"
   ]
  }
 ],
 "metadata": {
  "kernelspec": {
   "display_name": "Python 3.8.0 64-bit",
   "language": "python",
   "name": "python3"
  },
  "language_info": {
   "codemirror_mode": {
    "name": "ipython",
    "version": 3
   },
   "file_extension": ".py",
   "mimetype": "text/x-python",
   "name": "python",
   "nbconvert_exporter": "python",
   "pygments_lexer": "ipython3",
   "version": "3.8.0"
  },
  "orig_nbformat": 4,
  "vscode": {
   "interpreter": {
    "hash": "4733263a37ff27c94edd76dc733492882f172c6edf10691f276f0cfd9a3089c0"
   }
  }
 },
 "nbformat": 4,
 "nbformat_minor": 2
}
