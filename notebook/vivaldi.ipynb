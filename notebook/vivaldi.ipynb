{
 "cells": [
  {
   "cell_type": "code",
   "execution_count": 1,
   "metadata": {},
   "outputs": [],
   "source": [
    "import sys\n",
    "sys.path.insert(0, \"../\")"
   ]
  },
  {
   "cell_type": "code",
   "execution_count": 2,
   "metadata": {},
   "outputs": [],
   "source": [
    "import graph\n",
    "import importlib\n",
    "import math\n",
    "import matplotlib\n",
    "import matplotlib.pyplot as plt\n",
    "import numpy as np\n",
    "import random\n",
    "import schedule as sch\n",
    "import time\n",
    "import topo\n",
    "import typing\n",
    "import utils\n",
    "import vivaldi\n",
    "import yaml"
   ]
  },
  {
   "cell_type": "code",
   "execution_count": 3,
   "metadata": {},
   "outputs": [],
   "source": [
    "topo_file = \"../samples/1e3h.yaml\"\n",
    "sc = topo.Scenario.from_dict(yaml.load(open(topo_file, \"r\").read(), Loader=yaml.Loader))"
   ]
  },
  {
   "cell_type": "code",
   "execution_count": 4,
   "metadata": {},
   "outputs": [],
   "source": [
    "Coord3D = vivaldi.create_coordinate_class(3)\n",
    "coords = dict()\n",
    "for n in sc.topo.get_hosts():\n",
    "    coords[n.uuid] = Coord3D.random_unit_vector()\n",
    "coords_result = vivaldi.vivaldi_compute(sc.topo, coords, 0.1, 3000)"
   ]
  },
  {
   "cell_type": "code",
   "execution_count": 5,
   "metadata": {},
   "outputs": [
    {
     "name": "stdout",
     "output_type": "stream",
     "text": [
      "cloud1 (-5.581204050574298,9.77809723724813,-15.266563275164362)\n",
      "rasp1 (2.5552867989637984,-3.300197747870691,4.287685067444123)\n",
      "rasp2 (0.8075978638658398,-2.1412931942146476,5.663078409884061)\n",
      "rasp3 (2.3350842202061894,-1.9886603602932715,5.24852418984888)\n"
     ]
    }
   ],
   "source": [
    "for k, c in coords_result.items():\n",
    "    print(k, c)\n",
    "rasp1 = coords_result['rasp1']\n",
    "rasp2 = coords_result['rasp2']\n",
    "rasp3 = coords_result['rasp3']\n",
    "# vm1 = coords_result['vm1']\n",
    "# vm2 = coords_result['vm2']\n",
    "# print(abs(rasp1-rasp2))\n",
    "# print(abs(rasp1-rasp3))\n",
    "# print(abs(rasp1-vm1))\n",
    "# print(abs(vm1-vm2))"
   ]
  },
  {
   "cell_type": "code",
   "execution_count": 31,
   "metadata": {},
   "outputs": [
    {
     "name": "stdout",
     "output_type": "stream",
     "text": [
      "10\n"
     ]
    }
   ],
   "source": [
    "with open(\"../cases/chain1.yaml\") as f:\n",
    "    graph_list: typing.List[graph.ExecutionGraph] = graph.ExecutionGraph.load_all(f)\n",
    "print(len(graph_list))"
   ]
  },
  {
   "cell_type": "code",
   "execution_count": 7,
   "metadata": {},
   "outputs": [],
   "source": [
    "def get_graph_domain(g: graph.ExecutionGraph) -> topo.Domain:\n",
    "    domain_set = set()\n",
    "    for s in g.get_sources():\n",
    "        for d in sc.get_edge_domains():\n",
    "            if d.find_host(s.domain_constraint[\"host\"]) is not None:\n",
    "                domain_set.add(d.name)\n",
    "    assert len(domain_set) == 1\n",
    "    return sc.find_domain(list(domain_set)[0])"
   ]
  },
  {
   "cell_type": "code",
   "execution_count": 40,
   "metadata": {},
   "outputs": [],
   "source": [
    "sc.topo.clear_occupied()\n",
    "result_list = [sch.SchedulingResult() for _ in graph_list]\n",
    "op_pick_list = dict()\n",
    "for g, r in zip(graph_list, result_list):\n",
    "    op_coords = {v.uuid: Coord3D.random_unit_vector() for v in g.get_vertices()}\n",
    "    movable = dict()\n",
    "    for v in g.get_vertices():\n",
    "        movable[v.uuid] = len(v.domain_constraint) == 0\n",
    "        if not movable[v.uuid]:\n",
    "            op_coords[v.uuid] = coords_result[v.domain_constraint['host']]\n",
    "    op_result = vivaldi.constrained_balance(g, op_coords, movable, 0.001, 2000)\n",
    "    edge_domain = get_graph_domain(g)\n",
    "    cloud_domain = sc.get_cloud_domains()[0]\n",
    "    for v in g.get_sources():\n",
    "        host = edge_domain.find_host(v.domain_constraint['host'])\n",
    "        assert host is not None\n",
    "        r.assign(host.node.uuid, v.uuid)\n",
    "        host.node.occupy(1)\n",
    "    for v in g.get_sinks():\n",
    "        host = cloud_domain.find_host(v.domain_constraint['host'])\n",
    "        assert host is not None\n",
    "        r.assign(host.node.uuid, v.uuid)\n",
    "        host.node.occupy(1)\n",
    "    for v in g.get_operators():\n",
    "        op_pick_list[v.uuid] = op_result[v.uuid]"
   ]
  },
  {
   "cell_type": "code",
   "execution_count": 41,
   "metadata": {},
   "outputs": [
    {
     "name": "stdout",
     "output_type": "stream",
     "text": [
      "66\n",
      "46\n"
     ]
    }
   ],
   "source": [
    "print(sum([g.number_of_vertices() for g in graph_list]))\n",
    "print(len(op_pick_list))"
   ]
  },
  {
   "cell_type": "code",
   "execution_count": 42,
   "metadata": {},
   "outputs": [],
   "source": [
    "class PickItem:\n",
    "    def __init__(self, coord):\n",
    "        self.coord = coord\n",
    "        self.min_dist = None\n",
    "\n",
    "op_pick_list = {k: PickItem(v) for k, v in op_pick_list.items()}"
   ]
  },
  {
   "cell_type": "code",
   "execution_count": 43,
   "metadata": {},
   "outputs": [],
   "source": [
    "big_result = sch.SchedulingResult()\n",
    "\n",
    "while True:\n",
    "    # do min_dist marking\n",
    "    for domain in sc.get_edge_domains() + sc.get_cloud_domains():\n",
    "        for host in domain.topo.get_hosts():\n",
    "            if host.slots <= host.occupied or len(op_pick_list) == 0:\n",
    "                continue\n",
    "            self_coord = coords_result[host.uuid]\n",
    "            for op_id, op_item in op_pick_list.items():\n",
    "                dist = abs(op_item.coord - self_coord)\n",
    "                if op_item.min_dist is None or dist < op_item.min_dist:\n",
    "                    op_item.min_dist = dist\n",
    "    while True:\n",
    "        updated = False\n",
    "        for domain in sc.get_edge_domains() + sc.get_cloud_domains():\n",
    "            for host in domain.topo.get_hosts():\n",
    "                if host.slots <= host.occupied or len(op_pick_list) == 0:\n",
    "                    continue\n",
    "                self_coord = coords_result[host.uuid]\n",
    "                min_dist = 1e10\n",
    "                min_op = None\n",
    "                for op_id, op_item in op_pick_list.items():\n",
    "                    dist = abs(op_item.coord - self_coord)\n",
    "                    if dist < min_dist:\n",
    "                        min_dist = dist\n",
    "                        min_op = op_id\n",
    "                    # if op_item.min_dist is None or dist < op_item.min_dist:\n",
    "                    #     op_item.min_dist = dist\n",
    "                assert min_dist < 1e10 and min_op is not None\n",
    "                if min_dist <= op_pick_list[op_id].min_dist:\n",
    "                    big_result.assign(host.uuid, min_op)\n",
    "                    host.occupy(1)\n",
    "                    op_pick_list.pop(min_op)\n",
    "                    updated = True\n",
    "        if not updated:\n",
    "            break\n",
    "    if len(op_pick_list) == 0:\n",
    "        break\n",
    "    for _, op_item in op_pick_list.items():\n",
    "        op_item.min_dist = None\n"
   ]
  },
  {
   "cell_type": "code",
   "execution_count": 44,
   "metadata": {},
   "outputs": [],
   "source": [
    "for idx, g in enumerate(graph_list):\n",
    "    result_list[idx] = sch.SchedulingResult.merge(result_list[idx], big_result.extract(set([v.uuid for v in g.get_operators()])))"
   ]
  },
  {
   "cell_type": "code",
   "execution_count": 45,
   "metadata": {},
   "outputs": [
    {
     "name": "stdout",
     "output_type": "stream",
     "text": [
      "{'5e46068a-v1': 'rasp1', '5e46068a-v7': 'cloud1', '5e46068a-v5': 'rasp3', '5e46068a-v4': 'rasp2', '5e46068a-v2': 'rasp1', '5e46068a-v6': 'rasp3', '5e46068a-v3': 'rasp1'}\n",
      "{'cf3bfe16-v1': 'rasp2', 'cf3bfe16-v6': 'cloud1', 'cf3bfe16-v5': 'cloud1', 'cf3bfe16-v2': 'rasp2', 'cf3bfe16-v3': 'rasp3', 'cf3bfe16-v4': 'cloud1'}\n",
      "{'55ad6790-v1': 'rasp2', '55ad6790-v11': 'cloud1', '55ad6790-v4': 'cloud1', '55ad6790-v5': 'cloud1', '55ad6790-v2': 'cloud1', '55ad6790-v7': 'cloud1', '55ad6790-v8': 'cloud1', '55ad6790-v9': 'cloud1', '55ad6790-v10': 'cloud1', '55ad6790-v3': 'cloud1', '55ad6790-v6': 'cloud1'}\n",
      "{'a8d429d7-v1': 'rasp2', 'a8d429d7-v3': 'cloud1', 'a8d429d7-v2': 'cloud1'}\n",
      "{'d5f91d85-v1': 'rasp3', 'd5f91d85-v5': 'cloud1', 'd5f91d85-v3': 'cloud1', 'd5f91d85-v2': 'cloud1', 'd5f91d85-v4': 'cloud1'}\n",
      "{'46f682fb-v1': 'rasp1', '46f682fb-v3': 'cloud1', '46f682fb-v2': 'cloud1'}\n",
      "{'65a7af2f-v1': 'rasp1', '65a7af2f-v6': 'cloud1', '65a7af2f-v3': 'cloud1', '65a7af2f-v5': 'cloud1', '65a7af2f-v2': 'rasp1', '65a7af2f-v4': 'cloud1'}\n",
      "{'c010fca7-v1': 'rasp3', 'c010fca7-v10': 'cloud1', 'c010fca7-v3': 'rasp2', 'c010fca7-v4': 'rasp3', 'c010fca7-v2': 'rasp2', 'c010fca7-v5': 'cloud1', 'c010fca7-v7': 'cloud1', 'c010fca7-v8': 'cloud1', 'c010fca7-v6': 'cloud1', 'c010fca7-v9': 'cloud1'}\n",
      "{'15cc54ba-v1': 'rasp1', '15cc54ba-v9': 'cloud1', '15cc54ba-v6': 'cloud1', '15cc54ba-v8': 'cloud1', '15cc54ba-v3': 'rasp3', '15cc54ba-v5': 'cloud1', '15cc54ba-v7': 'cloud1', '15cc54ba-v2': 'rasp3', '15cc54ba-v4': 'cloud1'}\n",
      "{'d3e4e108-v1': 'rasp1', 'd3e4e108-v6': 'cloud1', 'd3e4e108-v5': 'cloud1', 'd3e4e108-v3': 'cloud1', 'd3e4e108-v4': 'cloud1', 'd3e4e108-v2': 'rasp2'}\n"
     ]
    }
   ],
   "source": [
    "for r in result_list:\n",
    "    print(r.assign_map)"
   ]
  },
  {
   "cell_type": "code",
   "execution_count": 46,
   "metadata": {},
   "outputs": [
    {
     "name": "stdout",
     "output_type": "stream",
     "text": [
      "{'5e46068a': 105.0, 'cf3bfe16': 42.0, '55ad6790': 29.0, 'a8d429d7': 33.0, 'd5f91d85': 33.0, '46f682fb': 35.0, '65a7af2f': 32.0, 'c010fca7': 73.0, '15cc54ba': 35.0, 'd3e4e108': 64.0}\n",
      "{'5e46068a': 0.3310841520915344, 'cf3bfe16': 0.2726026620550839, '55ad6790': 0.05961227786752828, 'a8d429d7': 0.3447204968944099, 'd5f91d85': 0.053304484657749805, '46f682fb': 0.18789013732833956, '65a7af2f': 0.014471243042671614, 'c010fca7': 0.1680327924235957, '15cc54ba': 0.0, 'd3e4e108': 0.26107910906298004}\n"
     ]
    }
   ],
   "source": [
    "calculator = sch.LatencyCalculator(sc.topo)\n",
    "for g, r in zip(graph_list, result_list):\n",
    "    calculator.add_scheduled_graph(g, r)\n",
    "lat, bp = calculator.compute_latency()\n",
    "print(lat)\n",
    "print(bp)"
   ]
  },
  {
   "cell_type": "code",
   "execution_count": 47,
   "metadata": {},
   "outputs": [
    {
     "name": "stdout",
     "output_type": "stream",
     "text": [
      "cf3bfe16-v1 (0.8075978638658398,-2.1412931942146476,5.663078409884061)\n",
      "cloud1 24.92,rasp1 2.51,rasp2 0.00,rasp3 1.59,\n",
      "cf3bfe16-v2 (0.22219886281031212,-1.046819891687086,3.735245972063275)\n",
      "cloud1 22.63,rasp1 3.29,rasp2 2.29,rasp3 2.76,\n",
      "cf3bfe16-v3 (0.01001853913659417,-0.6504087445001521,3.0377376212322673)\n",
      "cloud1 21.80,rasp1 3.88,rasp2 3.12,rasp3 3.48,\n",
      "cf3bfe16-v4 (-1.6131484429814233,2.3799658313218406,-2.2888072859210276)\n",
      "cloud1 15.46,rasp1 9.64,rasp2 9.46,rasp3 9.56,\n",
      "cf3bfe16-v5 (-2.190397287669846,3.4568802435832207,-4.17968959591668)\n",
      "cloud1 13.21,rasp1 11.83,rasp2 11.71,rasp3 11.79,\n",
      "cf3bfe16-v6 (-5.581204050574298,9.77809723724813,-15.266563275164362)\n",
      "cloud1 0.00,rasp1 24.89,rasp2 24.92,rasp3 24.94,\n"
     ]
    }
   ],
   "source": [
    "g = graph_list[1]\n",
    "op_coords = {v.uuid: Coord3D.random_unit_vector() for v in g.get_vertices()}\n",
    "movable = dict()\n",
    "for v in g.get_vertices():\n",
    "    movable[v.uuid] = len(v.domain_constraint) == 0\n",
    "    if not movable[v.uuid]:\n",
    "        op_coords[v.uuid] = coords_result[v.domain_constraint['host']]\n",
    "op_result = vivaldi.constrained_balance(g, op_coords, movable, 0.001, 2000)\n",
    "for v in g.get_vertices():\n",
    "    print(v.uuid, op_result[v.uuid])\n",
    "    for host in sc.topo.get_hosts():\n",
    "        print(host.uuid, \"{:.2f}\".format(abs(op_result[v.uuid] - coords_result[host.uuid])), end=\",\")\n",
    "    print(\"\")"
   ]
  },
  {
   "cell_type": "code",
   "execution_count": 49,
   "metadata": {},
   "outputs": [
    {
     "name": "stdout",
     "output_type": "stream",
     "text": [
      "2.2928370436418795\n",
      "0.8298675718735712\n",
      "6.339552174211294\n",
      "2.251310016475938\n",
      "13.205079430429473\n"
     ]
    }
   ],
   "source": [
    "print(abs(op_result['cf3bfe16-v1']-op_result['cf3bfe16-v2']))\n",
    "print(abs(op_result['cf3bfe16-v2']-op_result['cf3bfe16-v3']))\n",
    "print(abs(op_result['cf3bfe16-v3']-op_result['cf3bfe16-v4']))\n",
    "print(abs(op_result['cf3bfe16-v4']-op_result['cf3bfe16-v5']))\n",
    "print(abs(op_result['cf3bfe16-v5']-op_result['cf3bfe16-v6']))"
   ]
  },
  {
   "cell_type": "code",
   "execution_count": 48,
   "metadata": {},
   "outputs": [
    {
     "name": "stdout",
     "output_type": "stream",
     "text": [
      "cf3bfe16-v1 -- 591 --> cf3bfe16-v2\n",
      "cf3bfe16-v2 -- 1635 --> cf3bfe16-v3\n",
      "cf3bfe16-v3 -- 214 --> cf3bfe16-v4\n",
      "cf3bfe16-v4 -- 604 --> cf3bfe16-v5\n",
      "cf3bfe16-v5 -- 103 --> cf3bfe16-v6\n"
     ]
    }
   ],
   "source": [
    "for u, v, e in g.get_edges():\n",
    "    print(\"{} -- {} --> {}\".format(u, int(e['unit_size']*e['per_second']/1e3), v))"
   ]
  },
  {
   "cell_type": "code",
   "execution_count": 50,
   "metadata": {},
   "outputs": [
    {
     "name": "stdout",
     "output_type": "stream",
     "text": [
      "{'5e46068a': 35.0, 'cf3bfe16': 33.0, '55ad6790': 28.0, 'a8d429d7': 28.0, 'd5f91d85': 32.0, '46f682fb': 28.0, '65a7af2f': 41.0, 'c010fca7': 30.0, '15cc54ba': 43.0, 'd3e4e108': 43.0}\n",
      "{'5e46068a': 0.0, 'cf3bfe16': 0.0, '55ad6790': 0.0, 'a8d429d7': 0.0, 'd5f91d85': 0.0, '46f682fb': 0.0, '65a7af2f': 0.0, 'c010fca7': 0.0, '15cc54ba': 0.0, 'd3e4e108': 0.0}\n",
      "{'5e46068a-v1': 'rasp1', '5e46068a-v2': 'rasp1', '5e46068a-v5': 'cloud1', '5e46068a-v4': 'cloud1', '5e46068a-v7': 'cloud1', '5e46068a-v6': 'cloud1', '5e46068a-v3': 'cloud1'}\n",
      "{'cf3bfe16-v1': 'rasp2', 'cf3bfe16-v5': 'cloud1', 'cf3bfe16-v3': 'cloud1', 'cf3bfe16-v6': 'cloud1', 'cf3bfe16-v2': 'cloud1', 'cf3bfe16-v4': 'cloud1'}\n",
      "{'55ad6790-v1': 'rasp2', '55ad6790-v4': 'cloud1', '55ad6790-v5': 'cloud1', '55ad6790-v2': 'cloud1', '55ad6790-v7': 'cloud1', '55ad6790-v8': 'cloud1', '55ad6790-v11': 'cloud1', '55ad6790-v9': 'cloud1', '55ad6790-v10': 'cloud1', '55ad6790-v3': 'cloud1', '55ad6790-v6': 'cloud1'}\n",
      "{'a8d429d7-v1': 'rasp2', 'a8d429d7-v2': 'rasp2', 'a8d429d7-v3': 'cloud1'}\n",
      "{'d5f91d85-v1': 'rasp3', 'd5f91d85-v5': 'cloud1', 'd5f91d85-v3': 'cloud1', 'd5f91d85-v2': 'cloud1', 'd5f91d85-v4': 'cloud1'}\n",
      "{'46f682fb-v2': 'rasp1', '46f682fb-v1': 'rasp1', '46f682fb-v3': 'cloud1'}\n",
      "{'65a7af2f-v3': 'rasp3', '65a7af2f-v1': 'rasp1', '65a7af2f-v4': 'rasp3', '65a7af2f-v2': 'rasp3', '65a7af2f-v6': 'cloud1', '65a7af2f-v5': 'cloud1'}\n",
      "{'c010fca7-v2': 'rasp3', 'c010fca7-v1': 'rasp3', 'c010fca7-v3': 'cloud1', 'c010fca7-v4': 'cloud1', 'c010fca7-v5': 'cloud1', 'c010fca7-v7': 'cloud1', 'c010fca7-v8': 'cloud1', 'c010fca7-v10': 'cloud1', 'c010fca7-v6': 'cloud1', 'c010fca7-v9': 'cloud1'}\n",
      "{'15cc54ba-v3': 'rasp2', '15cc54ba-v5': 'rasp3', '15cc54ba-v1': 'rasp1', '15cc54ba-v2': 'rasp1', '15cc54ba-v4': 'rasp3', '15cc54ba-v9': 'cloud1', '15cc54ba-v6': 'cloud1', '15cc54ba-v8': 'cloud1', '15cc54ba-v7': 'cloud1'}\n",
      "{'d3e4e108-v2': 'rasp2', 'd3e4e108-v1': 'rasp1', 'd3e4e108-v3': 'rasp2', 'd3e4e108-v4': 'rasp2', 'd3e4e108-v5': 'cloud1', 'd3e4e108-v6': 'cloud1'}\n"
     ]
    }
   ],
   "source": [
    "sc.topo.clear_occupied()\n",
    "flow_calculator = sch.LatencyCalculator(sc.topo)\n",
    "flow_scheduler = sch.FlowScheduler(sc)\n",
    "flow_result_list = flow_scheduler.schedule_multiple(graph_list)\n",
    "for g, r in zip(graph_list, flow_result_list):\n",
    "    assert r is not None\n",
    "    flow_calculator.add_scheduled_graph(g, r)\n",
    "lat, bp = flow_calculator.compute_latency()\n",
    "print(lat)\n",
    "print(bp)\n",
    "for r in flow_result_list:\n",
    "    print(r.assign_map)"
   ]
  },
  {
   "cell_type": "code",
   "execution_count": 19,
   "metadata": {},
   "outputs": [],
   "source": [
    "def unit_size_cb(r: int):\n",
    "    return 10000 * math.pow(10, random.randint(0, 1))\n",
    "\n",
    "def gen_graphs(graph_count, source_selector_dict):\n",
    "    source_selector = graph.SourceSelector(source_selector_dict)\n",
    "    gen_args_list = [\n",
    "            {\n",
    "            \"total_rank\": random.randint(3, 7),\n",
    "            \"max_node_per_rank\": random.randint(1, 3),\n",
    "            \"max_predecessors\": random.randint(1, 2),\n",
    "            \"mi_cb\": lambda: 1,\n",
    "            \"memory_cb\": lambda: int(2e8),\n",
    "            \"unit_size_cb\": unit_size_cb,\n",
    "            \"unit_rate_cb\": lambda: random.randint(10, 20),\n",
    "            \"source_hosts\": source_selector,\n",
    "            \"sink_hosts\": [\"cloud1\"],\n",
    "        }\n",
    "        for _ in range(graph_count)\n",
    "    ]\n",
    "    return [\n",
    "        graph.GraphGenerator(\"g\" + str(idx), **gen_args).gen_dag_graph()\n",
    "        for idx, gen_args in enumerate(gen_args_list)\n",
    "    ]"
   ]
  },
  {
   "cell_type": "code",
   "execution_count": 20,
   "metadata": {},
   "outputs": [],
   "source": [
    "# source_dict = {'rasp1': 8, 'rasp2': 8, 'rasp3': 8}\n",
    "source_dict = {'rasp'+str(i): 8 for i in range(1, 7)}\n",
    "source_dict.update({'vm'+str(i): 16 for i in range(1, 7)})\n",
    "graph_list = gen_graphs(40, source_dict)\n",
    "with open(\"../cases/dag3.yaml\", \"w\") as f:\n",
    "    graph.ExecutionGraph.save_all(graph_list, f)"
   ]
  }
 ],
 "metadata": {
  "interpreter": {
   "hash": "43d59183209fbb529fb955d20e56d6e78345fbb583b396cdff9bd3ffeb890291"
  },
  "kernelspec": {
   "display_name": "Python 3.10.0 64-bit ('sim': conda)",
   "language": "python",
   "name": "python3"
  },
  "language_info": {
   "codemirror_mode": {
    "name": "ipython",
    "version": 3
   },
   "file_extension": ".py",
   "mimetype": "text/x-python",
   "name": "python",
   "nbconvert_exporter": "python",
   "pygments_lexer": "ipython3",
   "version": "3.10.0"
  },
  "orig_nbformat": 4
 },
 "nbformat": 4,
 "nbformat_minor": 2
}
