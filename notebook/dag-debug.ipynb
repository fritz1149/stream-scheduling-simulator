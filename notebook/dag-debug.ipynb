{
 "cells": [
  {
   "cell_type": "code",
   "execution_count": null,
   "source": [
    "import sys\r\n",
    "\r\n",
    "sys.path.insert(0, \"..\")\r\n",
    "\r\n",
    "import graph\r\n",
    "import logging\r\n",
    "import math\r\n",
    "import networkx as nx\r\n",
    "import schedule as sch\r\n",
    "import random\r\n",
    "import topo\r\n",
    "import uuid\r\n",
    "import yaml\r\n",
    "\r\n",
    "\r\n",
    "def gen_uuid():\r\n",
    "    return str(uuid.uuid4())[:8]"
   ],
   "outputs": [],
   "metadata": {}
  },
  {
   "cell_type": "code",
   "execution_count": null,
   "source": [
    "sc = topo.Scenario.from_dict(\r\n",
    "    yaml.load(open(\"../samples/1e3h.yaml\", \"r\").read(), Loader=yaml.Loader)\r\n",
    ")\r\n",
    "with open(\"../cases/dag-bp1.yaml\") as f:\r\n",
    "    graph_list = graph.ExecutionGraph.load_all(f)"
   ],
   "outputs": [],
   "metadata": {}
  },
  {
   "cell_type": "code",
   "execution_count": null,
   "source": [
    "sc.topo.clear_occupied()\r\n",
    "flow_scheduler = sch.FlowScheduler(sc)\r\n",
    "flow_scheduler.logger.setLevel(logging.INFO)\r\n",
    "flow_calculator = sch.LatencyCalculator(sc.topo)\r\n",
    "flow_calculator.logger.setLevel(logging.INFO)\r\n",
    "flow_result_list = flow_scheduler.schedule_multiple(graph_list)\r\n",
    "for g, result in zip(graph_list, flow_result_list):\r\n",
    "    if result is None:\r\n",
    "        print(\"none\")\r\n",
    "        continue\r\n",
    "    flow_calculator.add_scheduled_graph(g, result)"
   ],
   "outputs": [],
   "metadata": {}
  },
  {
   "cell_type": "code",
   "execution_count": null,
   "source": [
    "for e in graph_list[4].get_edges():\r\n",
    "    print('{} ---> {}'.format(e[0], e[1]))"
   ],
   "outputs": [],
   "metadata": {}
  },
  {
   "cell_type": "code",
   "execution_count": null,
   "source": [
    "print(flow_result_list[4].assign_map)"
   ],
   "outputs": [],
   "metadata": {}
  }
 ],
 "metadata": {
  "orig_nbformat": 4,
  "language_info": {
   "name": "python",
   "version": "3.9.5",
   "mimetype": "text/x-python",
   "codemirror_mode": {
    "name": "ipython",
    "version": 3
   },
   "pygments_lexer": "ipython3",
   "nbconvert_exporter": "python",
   "file_extension": ".py"
  },
  "kernelspec": {
   "name": "python3",
   "display_name": "Python 3.9.5 64-bit"
  },
  "interpreter": {
   "hash": "add1a61ff37513b0d798fa9b3ddbf8ae573dfe73fde377561c8d981e86c7d8d4"
  }
 },
 "nbformat": 4,
 "nbformat_minor": 2
}