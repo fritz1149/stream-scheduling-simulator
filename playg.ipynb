{
 "cells": [
  {
   "cell_type": "code",
   "execution_count": 3,
   "metadata": {},
   "outputs": [],
   "source": [
    "import networkx as nx"
   ]
  },
  {
   "cell_type": "code",
   "execution_count": 5,
   "metadata": {},
   "outputs": [
    {
     "data": {
      "text/plain": [
       "NodeView((0, 1, 2))"
      ]
     },
     "execution_count": 5,
     "metadata": {},
     "output_type": "execute_result"
    }
   ],
   "source": [
    "G = nx.Graph([(0, 1), (0, 2), (1, 2)])\n",
    "H = nx.Graph([(0, 1), (0, 3), (1, 3), (1, 2)])\n",
    "U = nx.union(G, H, rename=(\"G\", \"H\"))\n",
    "G.nodes\n",
    "# U.nodes\n",
    "# U.edges\n"
   ]
  },
  {
   "cell_type": "code",
   "execution_count": 44,
   "metadata": {},
   "outputs": [
    {
     "name": "stdout",
     "output_type": "stream",
     "text": [
      "s0\n",
      "s3\n",
      "s1\n",
      "s2\n",
      "s4\n",
      "  (0, 0)\t-1.0\n",
      "  (1, 0)\t1.0\n",
      "  (0, 1)\t-1.0\n",
      "  (2, 1)\t1.0\n",
      "  (1, 2)\t-1.0\n",
      "  (2, 2)\t1.0\n",
      "  (3, 3)\t-1.0\n",
      "  (4, 3)\t1.0\n",
      "  (4, 4)\t-1.0\n",
      "  (6, 4)\t1.0\n",
      "  (5, 5)\t-1.0\n",
      "  (6, 5)\t1.0\n"
     ]
    },
    {
     "data": {
      "text/plain": [
       "NodeView((0, 1, 2, 3, 4, 5, 6, 7))"
      ]
     },
     "execution_count": 44,
     "metadata": {},
     "output_type": "execute_result"
    }
   ],
   "source": [
    "G = nx.Graph([(0, 1), (0, 2), (1, 2)])\n",
    "H = nx.Graph([('s0', 's3'), ('s1', 's2'), ('s2', 's3')])\n",
    "H.add_node('s4', tag=\"ff\")\n",
    "for i, node in enumerate(H.nodes):\n",
    "    print(node)\n",
    "U = nx.disjoint_union(G, H)\n",
    "incidence = nx.incidence_matrix(G=U, oriented=True)\n",
    "print(incidence)\n",
    "U.nodes()"
   ]
  },
  {
   "cell_type": "code",
   "execution_count": 36,
   "metadata": {},
   "outputs": [
    {
     "name": "stdout",
     "output_type": "stream",
     "text": [
      "[(0, 1), (1, 2), (2, 3)]\n"
     ]
    }
   ],
   "source": [
    "G = nx.complete_graph(4)\n",
    "paths = nx.all_simple_paths(G, source=0, target=3)\n",
    "# for path in map(nx.utils.pairwise, paths):\n",
    "#     print(list(path))\n",
    "p = list(map(nx.utils.pairwise, paths))\n",
    "print(list(p[0]))"
   ]
  },
  {
   "cell_type": "code",
   "execution_count": 1,
   "metadata": {},
   "outputs": [
    {
     "data": {
      "text/plain": [
       "[[0, 0, 0, 0, 0], [0, 0, 0, 0, 0]]"
      ]
     },
     "execution_count": 1,
     "metadata": {},
     "output_type": "execute_result"
    }
   ],
   "source": [
    "m = [[0] * 5] * 2\n",
    "m"
   ]
  }
 ],
 "metadata": {
  "kernelspec": {
   "display_name": "Python 3.10.6 ('stream-simulator': venv)",
   "language": "python",
   "name": "python3"
  },
  "language_info": {
   "codemirror_mode": {
    "name": "ipython",
    "version": 3
   },
   "file_extension": ".py",
   "mimetype": "text/x-python",
   "name": "python",
   "nbconvert_exporter": "python",
   "pygments_lexer": "ipython3",
   "version": "3.10.6"
  },
  "orig_nbformat": 4,
  "vscode": {
   "interpreter": {
    "hash": "660d9251c8381adfa19a59a49901ad99abef1a9829cb173d9f9a45ab5b57c464"
   }
  }
 },
 "nbformat": 4,
 "nbformat_minor": 2
}
