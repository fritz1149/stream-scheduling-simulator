{
    "cells": [
        {
            "cell_type": "code",
            "execution_count": 1,
            "source": [
                "%load_ext blackcellmagic"
            ],
            "outputs": [],
            "metadata": {}
        },
        {
            "cell_type": "code",
            "execution_count": 2,
            "source": [
                "import graph as eg\r\n",
                "import importlib\r\n",
                "import uuid\r\n",
                "\r\n",
                "importlib.reload(eg)\r\n",
                "v1 = eg.Vertex(str(uuid.uuid4()), {\"hostname\": \"n1\"}, 1000, 1, 10, int(1e8))\r\n",
                "v2 = eg.Vertex(str(uuid.uuid4()), {\"hostname\": \"n2\"}, 1000, 1, 10, int(1e8))\r\n",
                "g = eg.ExecutionGraph(uuid.uuid4())\r\n",
                "g.add_vertex(v1)\r\n",
                "g.add_vertex(v2)\r\n",
                "g.connect(v1, v2)\r\n",
                "for v in g.topological_order():\r\n",
                "    print(v.uuid, v.memory)"
            ],
            "outputs": [
                {
                    "output_type": "stream",
                    "name": "stdout",
                    "text": [
                        "7636bd7e-c134-49b8-a10f-43fbec33928a 100000000\n",
                        "4d266abc-2dc1-4f83-a6e9-ce5c42e52b8b 100000000\n"
                    ]
                }
            ],
            "metadata": {}
        },
        {
            "cell_type": "code",
            "execution_count": 3,
            "source": [
                "import topo as tg\r\n",
                "\r\n",
                "importlib.reload(tg)\r\n",
                "n1 = tg.Node(str(uuid.uuid4()), \"host\", 1000, 1, int(1e9), 0, 0, {\"hostname\": \"n1\"})\r\n",
                "n2 = tg.Node(str(uuid.uuid4()), \"host\", 1000, 1, int(1e9), 0, 0, {\"hostname\": \"n2\"})\r\n",
                "t = tg.Topology()\r\n",
                "t.add_node(n1)\r\n",
                "t.add_node(n2)\r\n",
                "t.connect(n1, n2, uuid.uuid4(), int(1e7), 10)"
            ],
            "outputs": [],
            "metadata": {}
        },
        {
            "cell_type": "code",
            "execution_count": 4,
            "source": [
                "import scheduler as sch\r\n",
                "importlib.reload(sch)\r\n",
                "random_scheduler = sch.RandomScheduler()\r\n",
                "result = random_scheduler.schedule(g, t)\r\n",
                "print(result)"
            ],
            "outputs": [
                {
                    "output_type": "stream",
                    "name": "stderr",
                    "text": [
                        "\u001b[32m2021-08-05 12:18:51\u001b[0m \u001b[35mVancior-Redmi\u001b[0m \u001b[34mRandomScheduler[32800]\u001b[0m \u001b[1;30mDEBUG\u001b[0m \u001b[32mSelect node 1272b006-f837-4492-a574-5062ce97bfde for vertex 7636bd7e-c134-49b8-a10f-43fbec33928a\u001b[0m\n",
                        "\u001b[32m2021-08-05 12:18:51\u001b[0m \u001b[35mVancior-Redmi\u001b[0m \u001b[34mRandomScheduler[32800]\u001b[0m \u001b[1;30mDEBUG\u001b[0m \u001b[32mSelect node 462b52c8-536f-45e5-895b-e681145e8c81 for vertex 4d266abc-2dc1-4f83-a6e9-ce5c42e52b8b\u001b[0m\n"
                    ]
                },
                {
                    "output_type": "stream",
                    "name": "stdout",
                    "text": [
                        "{'7636bd7e-c134-49b8-a10f-43fbec33928a': '1272b006-f837-4492-a574-5062ce97bfde', '4d266abc-2dc1-4f83-a6e9-ce5c42e52b8b': '462b52c8-536f-45e5-895b-e681145e8c81'}\n"
                    ]
                }
            ],
            "metadata": {}
        },
        {
            "cell_type": "code",
            "execution_count": 5,
            "source": [
                "for v_from, v_to in g.get_edges():\r\n",
                "    t.occupy_link(result.get_scheduled_node(v_from), result.get_scheduled_node(v_to))\r\n",
                "print(t.g.edges)"
            ],
            "outputs": [
                {
                    "output_type": "stream",
                    "name": "stdout",
                    "text": [
                        "[('1272b006-f837-4492-a574-5062ce97bfde', '462b52c8-536f-45e5-895b-e681145e8c81')]\n"
                    ]
                }
            ],
            "metadata": {}
        },
        {
            "cell_type": "code",
            "execution_count": 6,
            "source": [
                "import latency\r\n",
                "importlib.reload(latency)\r\n",
                "latency_calculator = latency.LatencyCalculator(t)\r\n",
                "latency_calculator.add_scheduled_graph(g, result)\r\n",
                "print(latency_calculator.compute_latency())"
            ],
            "outputs": [
                {
                    "output_type": "stream",
                    "name": "stdout",
                    "text": [
                        "{UUID('a3e9a65e-8436-4ed9-80f7-8a38f0366f41'): 30}\n"
                    ]
                }
            ],
            "metadata": {}
        }
    ],
    "metadata": {
        "orig_nbformat": 4,
        "language_info": {
            "name": "python",
            "version": "3.9.5",
            "mimetype": "text/x-python",
            "codemirror_mode": {
                "name": "ipython",
                "version": 3
            },
            "pygments_lexer": "ipython3",
            "nbconvert_exporter": "python",
            "file_extension": ".py"
        },
        "kernelspec": {
            "name": "python3",
            "display_name": "Python 3.9.5 64-bit"
        },
        "interpreter": {
            "hash": "add1a61ff37513b0d798fa9b3ddbf8ae573dfe73fde377561c8d981e86c7d8d4"
        }
    },
    "nbformat": 4,
    "nbformat_minor": 2
}