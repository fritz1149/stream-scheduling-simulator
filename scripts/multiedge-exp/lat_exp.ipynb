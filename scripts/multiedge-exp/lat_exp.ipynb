{
 "cells": [
  {
   "cell_type": "code",
   "execution_count": 5,
   "metadata": {},
   "outputs": [],
   "source": [
    "import sys\n",
    "sys.path.insert(0, '../../')\n",
    "\n",
    "import graph\n",
    "import importlib\n",
    "import math\n",
    "import matplotlib\n",
    "import matplotlib.pyplot as plt\n",
    "import numpy as np\n",
    "import random\n",
    "import schedule as sch\n",
    "import topo\n",
    "import typing\n",
    "import utils\n",
    "import yaml\n",
    "from tqdm.notebook import tqdm\n",
    "\n",
    "matplotlib.rc('font', family='Times New Roman', size=16)"
   ]
  },
  {
   "cell_type": "code",
   "execution_count": 6,
   "metadata": {},
   "outputs": [],
   "source": [
    "def unit_size_cb(r: int):\n",
    "    return 10000 * math.pow(10, random.randint(0, 1))\n",
    "\n",
    "def gen_graphs(graph_count, source_selector_dict, max_source_num):\n",
    "    source_selector = graph.MultiDomainSourceSelector(source_selector_dict)\n",
    "    global source_quota\n",
    "    source_quota = max_source_num\n",
    "    def source_num(i):\n",
    "        global source_quota\n",
    "        assert graph_count - i <= source_quota\n",
    "        delta = source_quota - (graph_count - i)\n",
    "        ret = 1 + random.randint(0, min(delta, 2))\n",
    "        source_quota -= ret\n",
    "        return ret\n",
    "    gen_args_list = [\n",
    "            {\n",
    "            \"total_rank\": random.randint(3, 7),\n",
    "            \"max_node_per_rank\": random.randint(1, 3),\n",
    "            \"max_predecessors\": random.randint(1, 2),\n",
    "            \"mi_cb\": lambda: 1,\n",
    "            \"memory_cb\": lambda: int(2e8),\n",
    "            \"unit_size_cb\": unit_size_cb,\n",
    "            \"unit_rate_cb\": lambda: random.randint(10, 20),\n",
    "            \"source_hosts\": source_selector,\n",
    "            \"sink_hosts\": [\"cloud1\"],\n",
    "            \"sources_num\": source_num(i),\n",
    "        }\n",
    "        for i in range(graph_count)\n",
    "    ]\n",
    "    return [\n",
    "        graph.MultiSourceGraphGenerator(\"g\" + str(idx), **gen_args).gen_dag_graph()\n",
    "        for idx, gen_args in enumerate(gen_args_list)\n",
    "    ]"
   ]
  },
  {
   "cell_type": "code",
   "execution_count": 7,
   "metadata": {},
   "outputs": [],
   "source": [
    "from tqdm.notebook import trange\n",
    "\n",
    "def big_avg(array):\n",
    "    return sum(array) / len(array)\n",
    "\n",
    "def run(sc, labels, source_selector_dict, max_source_num):\n",
    "    flow_bp_data = [[] for _ in labels]\n",
    "    all_cloud_bp_data = [[] for _ in labels]\n",
    "    sbon_bp_data = [[] for _ in labels]\n",
    "    flow_event_data = [[] for _ in labels]\n",
    "    all_cloud_event_data = [[] for _ in labels]\n",
    "    sbon_event_data = [[] for _ in labels]\n",
    "    edge_random_event_data = [[] for _ in labels]\n",
    "    test_round = 100\n",
    "    for idx, graph_count in enumerate(labels):\n",
    "        print(graph_count)\n",
    "        for _ in trange(test_round, desc=\"running with {} graphs\".format(graph_count)):\n",
    "            graph_list = gen_graphs(graph_count, source_selector_dict, max_source_num)\n",
    "            sc.topo.clear_occupied()\n",
    "            flow_scheduler = sch.MultiEdgeFlowScheduler(sc)\n",
    "            flow_calculator = sch.LatencyCalculator(sc.topo)\n",
    "            flow_result_list = flow_scheduler.schedule_multiple(graph_list)\n",
    "            for g, result in zip(graph_list, flow_result_list):\n",
    "                assert result is not None\n",
    "                flow_calculator.add_scheduled_graph(g, result)\n",
    "            flow_latency, flow_bp, _ = flow_calculator.compute_latency()\n",
    "            for g in graph_list:\n",
    "                flow_event_data[idx].append(flow_latency[g.uuid] / g.number_of_vertices())\n",
    "                flow_bp_data[idx].append(flow_bp[g.uuid])\n",
    "\n",
    "            sc.topo.clear_occupied()\n",
    "            sbon_scheduler = sch.MultiEdgeSbonScheduler(sc)\n",
    "            sbon_calculator = sch.LatencyCalculator(sc.topo)\n",
    "            sbon_result_list = sbon_scheduler.schedule_multiple(graph_list)\n",
    "            for g, result in zip(graph_list, sbon_result_list):\n",
    "                assert result is not None\n",
    "                sbon_calculator.add_scheduled_graph(g, result)\n",
    "            sbon_latency, sbon_bp, _ = sbon_calculator.compute_latency()\n",
    "            for g in graph_list:\n",
    "                sbon_event_data[idx].append(sbon_latency[g.uuid] / g.number_of_vertices())\n",
    "                sbon_bp_data[idx].append(sbon_bp[g.uuid])\n",
    "\n",
    "            sc.topo.clear_occupied()\n",
    "            all_cloud_scheduler = sch.MultiEdgeAllCloudScheduler(sc)\n",
    "            all_cloud_calculator = sch.LatencyCalculator(sc.topo)\n",
    "            all_cloud_result_list = all_cloud_scheduler.schedule_multiple(graph_list)\n",
    "            for g, result in zip(graph_list, all_cloud_result_list):\n",
    "                assert result is not None\n",
    "                all_cloud_calculator.add_scheduled_graph(g, result)\n",
    "            all_cloud_latency, all_cloud_bp, _ = all_cloud_calculator.compute_latency()\n",
    "            for g in graph_list:\n",
    "                all_cloud_event_data[idx].append(all_cloud_latency[g.uuid] / g.number_of_vertices())\n",
    "                all_cloud_bp_data[idx].append(all_cloud_bp[g.uuid])\n",
    "            # all_cloud_event_data[idx].extend(list(all_cloud_latency.values()))\n",
    "\n",
    "            # sc.topo.clear_occupied()\n",
    "            # edge_random_scheduler = sch.EdgeRandomScheduler(sc)\n",
    "            # edge_random_calculator = sch.LatencyCalculator(sc.topo)\n",
    "            # edge_random_result_list = edge_random_scheduler.schedule_multiple(graph_list)\n",
    "            # for g, result in zip(graph_list, edge_random_result_list):\n",
    "            #     assert result is not None\n",
    "            #     edge_random_calculator.add_scheduled_graph(g, result)\n",
    "            # edge_random_latency, edge_random_bp = edge_random_calculator.compute_latency()\n",
    "            # edge_random_event_data[idx].extend(list(edge_random_latency.values()))\n",
    "\n",
    "            # for k in all_cloud_latency.keys():\n",
    "                # flow_event_data[idx].append(flow_latency[k] / all_cloud_latency[k])\n",
    "                # edge_random_event_data[idx].append(edge_random_latency[k] / flow_latency[k])\n",
    "    flow_event_data = [big_avg(i) for i in flow_event_data]\n",
    "    flow_bp_data = [big_avg(i) for i in flow_bp_data]\n",
    "    all_cloud_event_data = [big_avg(i) for i in all_cloud_event_data]\n",
    "    all_cloud_bp_data = [big_avg(i) for i in all_cloud_bp_data]\n",
    "    sbon_event_data = [big_avg(i) for i in sbon_event_data]\n",
    "    sbon_bp_data = [big_avg(i) for i in sbon_bp_data]\n",
    "    # return flow_event_data, flow_bp_data, all_cloud_event_data, all_cloud_bp_data, sbon_event_data, sbon_bp_data\n",
    "    return flow_event_data, flow_bp_data, all_cloud_event_data, all_cloud_bp_data, sbon_event_data, sbon_bp_data\n",
    "    # ax_lat.plot(flow_event_data)\n",
    "    # ax_lat.plot(all_cloud_event_data)\n",
    "    # ax_bp.plot(flow_bp_data)\n",
    "    # ax_bp.plot(all_cloud_bp_data)\n",
    "    # plt.eventplot(flow_event_data, lineoffsets=[i-width for i in range(len(labels))], linelengths=width, linewidths=0.5, colors=\"C0\", orientation=\"vertical\")\n",
    "    # plt.eventplot(edge_random_event_data, lineoffsets=[i for i in range(len(labels))], linelengths=width, linewidths=0.5, colors=\"C1\", orientation=\"vertical\")\n",
    "    # plt.eventplot(all_cloud_event_data, lineoffsets=[i+width for i in range(len(labels))], linelengths=width, linewidths=0.5, colors=\"C2\", orientation=\"vertical\")\n",
    "    # plt.violinplot(flow_event_data, vert=True, positions=[i-width for i in range(len(labels))], widths=width)\n",
    "    # plt.violinplot(edge_random_event_data, vert=True, positions=[i for i in range(len(labels))], widths=width)\n",
    "    # plt.violinplot(all_cloud_event_data, vert=True, positions=[i+width for i in range(len(labels))], widths=width)"
   ]
  },
  {
   "cell_type": "code",
   "execution_count": 8,
   "metadata": {},
   "outputs": [
    {
     "name": "stdout",
     "output_type": "stream",
     "text": [
      "4\n"
     ]
    },
    {
     "data": {
      "application/vnd.jupyter.widget-view+json": {
       "model_id": "6aa971f284c644a0b172cee4d6287f90",
       "version_major": 2,
       "version_minor": 0
      },
      "text/plain": [
       "running with 4 graphs:   0%|          | 0/100 [00:00<?, ?it/s]"
      ]
     },
     "metadata": {},
     "output_type": "display_data"
    },
    {
     "name": "stdout",
     "output_type": "stream",
     "text": [
      "8\n"
     ]
    },
    {
     "data": {
      "application/vnd.jupyter.widget-view+json": {
       "model_id": "9a6c33922cea42b186e745ceb8d1c942",
       "version_major": 2,
       "version_minor": 0
      },
      "text/plain": [
       "running with 8 graphs:   0%|          | 0/100 [00:00<?, ?it/s]"
      ]
     },
     "metadata": {},
     "output_type": "display_data"
    },
    {
     "name": "stdout",
     "output_type": "stream",
     "text": [
      "12\n"
     ]
    },
    {
     "data": {
      "application/vnd.jupyter.widget-view+json": {
       "model_id": "30e9a3391482432cb090d7135effdc0f",
       "version_major": 2,
       "version_minor": 0
      },
      "text/plain": [
       "running with 12 graphs:   0%|          | 0/100 [00:00<?, ?it/s]"
      ]
     },
     "metadata": {},
     "output_type": "display_data"
    },
    {
     "name": "stdout",
     "output_type": "stream",
     "text": [
      "16\n"
     ]
    },
    {
     "data": {
      "application/vnd.jupyter.widget-view+json": {
       "model_id": "b8bac81995af4ee49ae09a5e7e32b070",
       "version_major": 2,
       "version_minor": 0
      },
      "text/plain": [
       "running with 16 graphs:   0%|          | 0/100 [00:00<?, ?it/s]"
      ]
     },
     "metadata": {},
     "output_type": "display_data"
    },
    {
     "name": "stdout",
     "output_type": "stream",
     "text": [
      "20\n"
     ]
    },
    {
     "data": {
      "application/vnd.jupyter.widget-view+json": {
       "model_id": "5e36e0dd3c814291a8d1488c70c6bc76",
       "version_major": 2,
       "version_minor": 0
      },
      "text/plain": [
       "running with 20 graphs:   0%|          | 0/100 [00:00<?, ?it/s]"
      ]
     },
     "metadata": {},
     "output_type": "display_data"
    },
    {
     "name": "stdout",
     "output_type": "stream",
     "text": [
      "[4.9554497774557555, 6.253373150989393, 7.139688629184887, 8.494548739715777, 9.317850308322964]\n",
      "[5.20076692350515, 6.667410312556477, 7.8457179014663065, 9.366189257634916, 10.482070555838819]\n",
      "[6.101054481086619, 8.132374581244862, 9.593855000005806, 11.448456410023663, 12.634542008030117]\n"
     ]
    }
   ],
   "source": [
    "sc = topo.Scenario.from_dict(yaml.load(open(\"../../samples/1e6h.yaml\", \"r\").read(), Loader=yaml.Loader))\n",
    "f_lat1, f_bp1, ac_lat1, ac_bp1, sbon_lat1, sbon_bp1 = run(sc, [4, 8, 12, 16, 20], \n",
    "                    {\"edge0\": {'e0rasp1': 10, 'e0rasp2': 10, 'e0rasp3': 10},\n",
    "                    \"edge1\": {'e1rasp1': 10, 'e1rasp2': 10, 'e1rasp3': 10}}, 45)\n",
    "print(f_lat1)\n",
    "print(ac_lat1)\n",
    "print(sbon_lat1)"
   ]
  },
  {
   "cell_type": "code",
   "execution_count": 9,
   "metadata": {},
   "outputs": [
    {
     "name": "stdout",
     "output_type": "stream",
     "text": [
      "40\n"
     ]
    },
    {
     "data": {
      "application/vnd.jupyter.widget-view+json": {
       "model_id": "57599ba053cf4bb796b5e2661a27171d",
       "version_major": 2,
       "version_minor": 0
      },
      "text/plain": [
       "running with 40 graphs:   0%|          | 0/100 [00:00<?, ?it/s]"
      ]
     },
     "metadata": {},
     "output_type": "display_data"
    },
    {
     "name": "stdout",
     "output_type": "stream",
     "text": [
      "60\n"
     ]
    },
    {
     "data": {
      "application/vnd.jupyter.widget-view+json": {
       "model_id": "8c553d289990432fb980ed43ded71703",
       "version_major": 2,
       "version_minor": 0
      },
      "text/plain": [
       "running with 60 graphs:   0%|          | 0/100 [00:00<?, ?it/s]"
      ]
     },
     "metadata": {},
     "output_type": "display_data"
    },
    {
     "name": "stdout",
     "output_type": "stream",
     "text": [
      "80\n"
     ]
    },
    {
     "data": {
      "application/vnd.jupyter.widget-view+json": {
       "model_id": "d35b22515bb14de5af758483a5b085f4",
       "version_major": 2,
       "version_minor": 0
      },
      "text/plain": [
       "running with 80 graphs:   0%|          | 0/100 [00:00<?, ?it/s]"
      ]
     },
     "metadata": {},
     "output_type": "display_data"
    }
   ],
   "source": [
    "sc = topo.Scenario.from_dict(yaml.load(open(\"../../samples/1e18h.yaml\", \"r\").read(), Loader=yaml.Loader))\n",
    "edge0 = {\"e0rasp\"+str(i): 12 for i in range(1, 7)}\n",
    "edge1 = {\"e1rasp\"+str(i): 12 for i in range(1, 4)}\n",
    "edge1.update({\"e1vm\"+str(i): 24 for i in range(1, 4)})\n",
    "edge2 = {\"e2rasp\"+str(i): 12 for i in range(1, 5)}\n",
    "edge2.update({\"e2vm\"+str(i): 24 for i in range(1, 3)})\n",
    "source_dict = {\"edge0\": edge0, \"edge1\": edge1, \"edge2\": edge2}\n",
    "f_lat2, f_bp2, ac_lat2, ac_bp2, sbon_lat2, sbon_bp2 = run(sc, [40, 60, 80, 100, 120], source_dict, 200)\n",
    "print(f_lat2)\n",
    "print(ac_lat2)\n",
    "print(sbon_lat2)"
   ]
  },
  {
   "cell_type": "code",
   "execution_count": 8,
   "metadata": {},
   "outputs": [
    {
     "name": "stdout",
     "output_type": "stream",
     "text": [
      "200\n"
     ]
    },
    {
     "data": {
      "application/vnd.jupyter.widget-view+json": {
       "model_id": "70007b692d3d4d2a933b13bd4e2aa6b6",
       "version_major": 2,
       "version_minor": 0
      },
      "text/plain": [
       "running with 200 graphs:   0%|          | 0/100 [00:00<?, ?it/s]"
      ]
     },
     "metadata": {},
     "output_type": "display_data"
    },
    {
     "name": "stdout",
     "output_type": "stream",
     "text": [
      "300\n"
     ]
    },
    {
     "data": {
      "application/vnd.jupyter.widget-view+json": {
       "model_id": "b5e997f0e6be4dc8b4ec24a43d406ebe",
       "version_major": 2,
       "version_minor": 0
      },
      "text/plain": [
       "running with 300 graphs:   0%|          | 0/100 [00:00<?, ?it/s]"
      ]
     },
     "metadata": {},
     "output_type": "display_data"
    },
    {
     "name": "stdout",
     "output_type": "stream",
     "text": [
      "400\n"
     ]
    },
    {
     "data": {
      "application/vnd.jupyter.widget-view+json": {
       "model_id": "aa60990408024440a20634270c4314b2",
       "version_major": 2,
       "version_minor": 0
      },
      "text/plain": [
       "running with 400 graphs:   0%|          | 0/100 [00:00<?, ?it/s]"
      ]
     },
     "metadata": {},
     "output_type": "display_data"
    },
    {
     "name": "stdout",
     "output_type": "stream",
     "text": [
      "500\n"
     ]
    },
    {
     "data": {
      "application/vnd.jupyter.widget-view+json": {
       "model_id": "46623c5c02184ecb8d652bcd98029526",
       "version_major": 2,
       "version_minor": 0
      },
      "text/plain": [
       "running with 500 graphs:   0%|          | 0/100 [00:00<?, ?it/s]"
      ]
     },
     "metadata": {},
     "output_type": "display_data"
    },
    {
     "name": "stdout",
     "output_type": "stream",
     "text": [
      "600\n"
     ]
    },
    {
     "data": {
      "application/vnd.jupyter.widget-view+json": {
       "model_id": "5cfaaf4db6c14a76b017dcef9ad5d03a",
       "version_major": 2,
       "version_minor": 0
      },
      "text/plain": [
       "running with 600 graphs:   0%|          | 0/100 [00:00<?, ?it/s]"
      ]
     },
     "metadata": {},
     "output_type": "display_data"
    },
    {
     "name": "stdout",
     "output_type": "stream",
     "text": [
      "[20.600970834214586, 28.825593371594866, 38.019014994523296, 46.47901277889612, 54.31786919027147] [24.360759401022886, 34.35613662975439, 44.858573265063654, 55.08710536934305, 64.83622267279185]\n"
     ]
    }
   ],
   "source": [
    "sc = topo.Scenario.from_dict(yaml.load(open(\"../../samples/1e54h.yaml\", \"r\").read(), Loader=yaml.Loader))\n",
    "edge0 = {\"e0rasp\"+str(i): 12 for i in range(1, 9)}\n",
    "edge0.update({\"e0vm\"+str(i): 24 for i in range(1, 7)})\n",
    "edge0.update({\"e0desktop\"+str(i): 48 for i in range(1, 5)})\n",
    "edge1 = {\"e1rasp\"+str(i): 12 for i in range(1, 9)}\n",
    "edge1.update({\"e1vm\"+str(i): 24 for i in range(1, 7)})\n",
    "edge1.update({\"e1desktop\"+str(i): 48 for i in range(1, 5)})\n",
    "edge2 = {\"e2rasp\"+str(i): 12 for i in range(1, 9)}\n",
    "edge2.update({\"e2vm\"+str(i): 24 for i in range(1, 7)})\n",
    "edge2.update({\"e2desktop\"+str(i): 48 for i in range(1, 5)})\n",
    "source_dict = {\"edge0\": edge0, \"edge1\": edge1, \"edge2\": edge2}\n",
    "f_lat3, f_bp3, ac_lat3, ac_bp3, sbon_lat3, sbon_bp3 = run(sc, [200, 300, 400, 500, 600], source_dict, 1000)\n",
    "print(f_lat3, ac_lat3)"
   ]
  },
  {
   "cell_type": "code",
   "execution_count": null,
   "metadata": {},
   "outputs": [],
   "source": [
    "fig, axes = plt.subplots(1, 3, figsize=(15, 5), dpi=300, constrained_layout=True)\n",
    "fig.supxlabel(\"Number of Graphs\")\n",
    "fig.supylabel(\"Average Latency per Operator (ms)\")\n",
    "axes[0].set_xticks([i for i in range(5)])\n",
    "axes[0].set_xticklabels([4, 8, 12, 16, 20])\n",
    "axes[1].set_xticks([i for i in range(5)])\n",
    "axes[1].set_xticklabels([40, 60, 80, 100, 120])\n",
    "axes[2].set_xticks([i for i in range(5)])\n",
    "axes[2].set_xticklabels([200, 300, 400, 500, 600])\n",
    "axes[0].plot(f_lat1, marker=\"s\")\n",
    "axes[0].plot(ac_lat1, marker=\"^\")\n",
    "axes[0].plot(sbon_lat1, marker=\"o\")\n",
    "# axes[1].plot(f_lat2, marker=\"s\")\n",
    "# axes[1].plot(ac_lat2, marker=\"^\")\n",
    "# axes[1].plot(sbon_lat2, marker=\"o\")\n",
    "# axes[2].plot(f_lat3, marker=\"s\")\n",
    "# axes[2].plot(ac_lat3, marker=\"^\")\n",
    "plt.show()"
   ]
  }
 ],
 "metadata": {
  "kernelspec": {
   "display_name": "Python 3.8.10 ('stream-scheduling-simulator': venv)",
   "language": "python",
   "name": "python3"
  },
  "language_info": {
   "codemirror_mode": {
    "name": "ipython",
    "version": 3
   },
   "file_extension": ".py",
   "mimetype": "text/x-python",
   "name": "python",
   "nbconvert_exporter": "python",
   "pygments_lexer": "ipython3",
   "version": "3.8.10"
  },
  "orig_nbformat": 4,
  "vscode": {
   "interpreter": {
    "hash": "673be82b3945be666da6bf363071c2e2d267065e5c5e23d9e713784609e0345a"
   }
  }
 },
 "nbformat": 4,
 "nbformat_minor": 2
}
