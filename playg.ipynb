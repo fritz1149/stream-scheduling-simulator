{
 "cells": [
  {
   "cell_type": "code",
   "execution_count": 7,
   "metadata": {},
   "outputs": [],
   "source": [
    "import networkx as nx"
   ]
  },
  {
   "cell_type": "code",
   "execution_count": 5,
   "metadata": {},
   "outputs": [
    {
     "data": {
      "text/plain": [
       "NodeView((0, 1, 2))"
      ]
     },
     "execution_count": 5,
     "metadata": {},
     "output_type": "execute_result"
    }
   ],
   "source": [
    "G = nx.Graph([(0, 1), (0, 2), (1, 2)])\n",
    "H = nx.Graph([(0, 1), (0, 3), (1, 3), (1, 2)])\n",
    "U = nx.union(G, H, rename=(\"G\", \"H\"))\n",
    "G.nodes\n",
    "# U.nodes\n",
    "# U.edges\n"
   ]
  },
  {
   "cell_type": "code",
   "execution_count": 20,
   "metadata": {},
   "outputs": [
    {
     "name": "stdout",
     "output_type": "stream",
     "text": [
      "s0\n",
      "s3\n",
      "s1\n",
      "s2\n",
      "s4\n",
      "[[-1 -1  0  0  0  0]\n",
      " [ 1  0 -1  0  0  0]\n",
      " [ 0  1  1  0  0  0]\n",
      " [ 0  0  0 -1  0  0]\n",
      " [ 0  0  0  1 -1  0]\n",
      " [ 0  0  0  0  0 -1]\n",
      " [ 0  0  0  0  1  1]\n",
      " [ 0  0  0  0  0  0]]\n",
      "<class 'numpy.ndarray'>\n"
     ]
    },
    {
     "data": {
      "text/plain": [
       "[0, 1, 2, 3, 4, 5, 6, 7]"
      ]
     },
     "execution_count": 20,
     "metadata": {},
     "output_type": "execute_result"
    }
   ],
   "source": [
    "import numpy as np\n",
    "G = nx.Graph([(0, 1), (0, 2), (1, 2)])\n",
    "H = nx.Graph([('s0', 's3'), ('s1', 's2'), ('s2', 's3')])\n",
    "H.add_node('s4', tag=\"ff\")\n",
    "for i, node in enumerate(H.nodes):\n",
    "    print(node)\n",
    "U = nx.disjoint_union(G, H)\n",
    "incidence = nx.incidence_matrix(G=U, oriented=True).toarray().astype(np.int32)\n",
    "print(incidence)\n",
    "print(type(incidence))\n",
    "[x for x in U.nodes]"
   ]
  },
  {
   "cell_type": "code",
   "execution_count": 36,
   "metadata": {},
   "outputs": [
    {
     "name": "stdout",
     "output_type": "stream",
     "text": [
      "[(0, 1), (1, 2), (2, 3)]\n"
     ]
    }
   ],
   "source": [
    "G = nx.complete_graph(4)\n",
    "paths = nx.all_simple_paths(G, source=0, target=3)\n",
    "# for path in map(nx.utils.pairwise, paths):\n",
    "#     print(list(path))\n",
    "p = list(map(nx.utils.pairwise, paths))\n",
    "print(list(p[0]))"
   ]
  },
  {
   "cell_type": "code",
   "execution_count": 28,
   "metadata": {},
   "outputs": [
    {
     "name": "stdout",
     "output_type": "stream",
     "text": [
      "DiGraph with 7 nodes and 8 edges\n"
     ]
    },
    {
     "data": {
      "text/plain": [
       "3.0"
      ]
     },
     "execution_count": 28,
     "metadata": {},
     "output_type": "execute_result"
    }
   ],
   "source": [
    "G = nx.DiGraph()\n",
    "G.add_edge(\"x\", \"a\", capacity=3.0)\n",
    "G.add_edge(\"x\", \"b\", capacity=1.0)\n",
    "G.add_edge(\"a\", \"c\", capacity=3.0)\n",
    "G.add_edge(\"b\", \"c\", capacity=5.0)\n",
    "G.add_edge(\"b\", \"d\", capacity=4.0)\n",
    "G.add_edge(\"d\", \"e\", capacity=2.0)\n",
    "G.add_edge(\"c\", \"y\", capacity=2.0)\n",
    "G.add_edge(\"e\", \"y\", capacity=3.0)\n",
    "print(G)\n",
    "cut_value = nx.minimum_cut_value(G, \"x\", \"y\")\n",
    "cut_value"
   ]
  },
  {
   "cell_type": "code",
   "execution_count": 12,
   "metadata": {},
   "outputs": [
    {
     "name": "stdout",
     "output_type": "stream",
     "text": [
      "0.0006\n",
      "6e-10\n",
      "0.0000000006 <class 'str'>\n"
     ]
    }
   ],
   "source": [
    "a = 0.0006\n",
    "print(a)\n",
    "a = 0.0000000006\n",
    "print(a)\n",
    "import numpy as np\n",
    "a = np.format_float_positional(a, trim='-')\n",
    "print(a, type(a))"
   ]
  },
  {
   "cell_type": "code",
   "execution_count": 17,
   "metadata": {},
   "outputs": [
    {
     "data": {
      "text/plain": [
       "[1, 2, 3, 4, 5]"
      ]
     },
     "execution_count": 17,
     "metadata": {},
     "output_type": "execute_result"
    }
   ],
   "source": [
    "import copy\n",
    "a = [1, 2, 3, 4, 5, 6]\n",
    "# [a[i] for i in range(5)]\n",
    "f = [(lambda x: x + a[i]) for i in range(5)]\n",
    "print(len(f))\n",
    "for i in range(5):\n",
    "    print(i, f[i](i))"
   ]
  },
  {
   "cell_type": "code",
   "execution_count": 1,
   "metadata": {},
   "outputs": [
    {
     "name": "stdout",
     "output_type": "stream",
     "text": [
      "best_x: [ 2.98023233e-08 -3.27825556e-07] \n",
      " best_y: [0.]\n"
     ]
    }
   ],
   "source": [
    "import numpy as np\n",
    "from sko.GA import GA\n",
    "\n",
    "def schaffer(p):\n",
    "    '''\n",
    "    This function has plenty of local minimum, with strong shocks\n",
    "    global minimum at (0,0) with value 0\n",
    "    '''\n",
    "    x1, x2 = p\n",
    "    x = np.square(x1) + np.square(x2)\n",
    "    return 0.5 + (np.square(np.sin(x)) - 0.5) / np.square(1 + 0.001 * x)\n",
    "\n",
    "ga = GA(func=schaffer, n_dim=2, size_pop=50, max_iter=800, prob_mut=0.001, lb=[-1, -1], ub=[1, 1], precision=1e-7)\n",
    "best_x, best_y = ga.run()\n",
    "print('best_x:', best_x, '\\n', 'best_y:', best_y)"
   ]
  },
  {
   "cell_type": "code",
   "execution_count": 2,
   "metadata": {},
   "outputs": [
    {
     "data": {
      "image/png": "[encoded data removed]",
      "text/plain": [
       "<Figure size 640x480 with 2 Axes>"
      ]
     },
     "metadata": {},
     "output_type": "display_data"
    }
   ],
   "source": [
    "import pandas as pd\n",
    "import matplotlib.pyplot as plt\n",
    "\n",
    "Y_history = pd.DataFrame(ga.all_history_Y)\n",
    "fig, ax = plt.subplots(2, 1)\n",
    "ax[0].plot(Y_history.index, Y_history.values, '.', color='red')\n",
    "Y_history.min(axis=1).cummin().plot(kind='line')\n",
    "plt.show()"
   ]
  }
 ],
 "metadata": {
  "kernelspec": {
   "display_name": "Python 3.10.6 ('stream-simulator': venv)",
   "language": "python",
   "name": "python3"
  },
  "language_info": {
   "codemirror_mode": {
    "name": "ipython",
    "version": 3
   },
   "file_extension": ".py",
   "mimetype": "text/x-python",
   "name": "python",
   "nbconvert_exporter": "python",
   "pygments_lexer": "ipython3",
   "version": "3.10.6"
  },
  "orig_nbformat": 4,
  "vscode": {
   "interpreter": {
    "hash": "660d9251c8381adfa19a59a49901ad99abef1a9829cb173d9f9a45ab5b57c464"
   }
  }
 },
 "nbformat": 4,
 "nbformat_minor": 2
}
